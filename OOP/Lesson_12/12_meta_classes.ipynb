{
 "cells": [
  {
   "cell_type": "markdown",
   "metadata": {},
   "source": [
    "# 12. meta classes"
   ]
  },
  {
   "cell_type": "markdown",
   "metadata": {},
   "source": [
    "### 1. meta classes"
   ]
  },
  {
   "cell_type": "code",
   "execution_count": 27,
   "metadata": {},
   "outputs": [],
   "source": [
    "# print(type([]))\n",
    "# print(type(type))\n",
    "# print(list.__class__)\n",
    "# print(list().__class__)\n",
    "\n",
    "# class User:\n",
    "#     pass\n",
    "\n",
    "# User = type(\"User\", )\n",
    "\n",
    "# user = User()\n",
    "# print(user.__class__)\n",
    " \n",
    "# class Meta(type):\n",
    "#     def __new__(meta, class_name, supers, class_dict):\n",
    "#         print(\"meta\", meta) # Meta class\n",
    "#         print(class_name) # User - child class name\n",
    "#         print(supers) # parent classner@\n",
    "#         print(class_dict) # User class attibutes\n",
    "#         return type.__new__(meta, class_name, supers, class_dict)\n",
    "    \n",
    "\n",
    "    \n",
    "\n",
    "# class SpaceMan:\n",
    "#     pass\n",
    "\n",
    "# class User(SpaceMan, metaclass = Meta):\n",
    "#     name = 'Jarvis'\n",
    "    \n",
    "    \n",
    "# jarvis = User()"
   ]
  },
  {
   "cell_type": "code",
   "execution_count": 36,
   "metadata": {},
   "outputs": [],
   "source": [
    "# ## __init__\n",
    "\n",
    "# class Meta(type):\n",
    "#     def __new__(meta, class_name, supers, class_dict):\n",
    "#         # print(meta) # Meta class\n",
    "#         # print(class_name) # User - child class name\n",
    "#         # print(supers) # parent classner@\n",
    "#         # print(class_dict) # User class attibutes\n",
    "#         return type.__new__(meta, class_name, supers, class_dict)\n",
    "        \n",
    "#     def __init__(self, class_name, supers, class_dict):\n",
    "#         print('Meta Init method')\n",
    "#         print(Class) # User class\n",
    "#         print(class_name) # User - child class name\n",
    "#         print(supers) # parent classner@\n",
    "#         print(class_dict) # User class attibutes\n",
    "        \n",
    "\n",
    "\n",
    "# class SpaceMan:\n",
    "#     pass\n",
    "\n",
    "# class User(SpaceMan, metaclass = Meta):\n",
    "#     name = 'Jarvis'\n",
    "    \n",
    "# print(\"----------User--------\", User)\n",
    "# jarvis = User()"
   ]
  },
  {
   "cell_type": "code",
   "execution_count": 43,
   "metadata": {},
   "outputs": [],
   "source": [
    "# def MetaFunc(class_name, supers, class_dict):\n",
    "#     print(class_name) # User - child class name\n",
    "#     print(supers) # parent classner@\n",
    "#     print(class_dict) # User class attibutes\n",
    "#     return 1\n",
    "\n",
    "# class SpaceMan:\n",
    "#     pass\n",
    "\n",
    "# class User(SpaceMan, metaclass = MetaFunc):\n",
    "#     name = 'Jarvis'\n",
    "\n",
    "# print(User)\n",
    "# jarvis = User()\n",
    "# print(jarvis)"
   ]
  },
  {
   "cell_type": "code",
   "execution_count": 21,
   "metadata": {},
   "outputs": [
    {
     "name": "stdout",
     "output_type": "stream",
     "text": [
      "SuperMeta call method: \n",
      "<class '__main__.Meta'> User\n",
      "Meta New method\n",
      "Meta Init method\n"
     ]
    }
   ],
   "source": [
    "# class SuperMeta(type):\n",
    "#     def __call__(meta, classname, supers, classdict):\n",
    "#         print('SuperMeta call method: ')\n",
    "#         return type.__call__(meta, classname, supers, classdict)\n",
    "        \n",
    "\n",
    "\n",
    "# class Meta(type, metaclass = SuperMeta):\n",
    "    \n",
    "#     def __new__(meta, class_name, supers, class_dict):\n",
    "#         print('Meta New method')\n",
    "#         # print(meta) # Meta class\n",
    "#         # print(class_name) # User - child class name\n",
    "#         # print(supers) # parent classner@\n",
    "#         # print(class_dict) # User class attibutes\n",
    "#         return type.__new__(meta, class_name, supers, class_dict)\n",
    "        \n",
    "#     def __init__(Class, class_name, supers, class_dict):\n",
    "#         print('Meta Init method')\n",
    "\n",
    "        \n",
    "# class SpaceMan:\n",
    "#     pass\n",
    "\n",
    "# class User(SpaceMan, metaclass = Meta):\n",
    "#     name = 'Jarvis'\n",
    "\n",
    "# jarvis = User()"
   ]
  },
  {
   "cell_type": "code",
   "execution_count": 59,
   "metadata": {},
   "outputs": [],
   "source": [
    "# class User:\n",
    "#     def __init__(self):\n",
    "#         print(\"init\")\n",
    "        \n",
    "#     def __new__(self):\n",
    "#         print(11)\n",
    "#         return self\n",
    "\n",
    "# User = type(\"Vazgen\", (), {\"asd\": \"basd\"})\n",
    "# User.status = \"haramiq\"\n",
    "# print(\"User\", User.status)\n",
    "# user = User()"
   ]
  }
 ],
 "metadata": {
  "kernelspec": {
   "display_name": "Python 3",
   "language": "python",
   "name": "python3"
  },
  "language_info": {
   "codemirror_mode": {
    "name": "ipython",
    "version": 3
   },
   "file_extension": ".py",
   "mimetype": "text/x-python",
   "name": "python",
   "nbconvert_exporter": "python",
   "pygments_lexer": "ipython3",
   "version": "3.6.9"
  }
 },
 "nbformat": 4,
 "nbformat_minor": 4
}
