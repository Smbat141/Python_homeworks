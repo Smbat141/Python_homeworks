{
 "cells": [
  {
   "cell_type": "markdown",
   "metadata": {},
   "source": [
    "# 3. Inheritance part 2\n",
    "\n",
    "### 1. method override"
   ]
  },
  {
   "cell_type": "code",
   "execution_count": 11,
   "metadata": {},
   "outputs": [],
   "source": [
    "# class Rectangle:\n",
    "#     def __init__(self, length, width):\n",
    "#         self.length = length\n",
    "#         self.width = width\n",
    "        \n",
    "#     def area(self):\n",
    "#         return self.length * self.width\n",
    "    \n",
    "#     def perimeter(self):\n",
    "#         return 2 * self.length + 2 * self.width\n",
    "    \n",
    "#     def show_object(self):\n",
    "#         print(self.__dict__)\n",
    "        \n",
    "# rectangle = Rectangle(4, 5)\n",
    "# rectangle.perimeter()\n",
    "    \n",
    "# class Square(Rectangle):\n",
    "#     def __init__(self, side):\n",
    "#         self.side = side\n",
    "    \n",
    "#     def area(self):\n",
    "#         return self.side * self.side\n",
    "    \n",
    "#     def perimeter(self):\n",
    "#         return 4 * self.side\n",
    "\n",
    "# square = Square(2)\n",
    "# square.show_object()\n",
    "\n",
    "# class Square(Rectangle):\n",
    "#     def __init__(self, length):\n",
    "#         Rectangle.__init__(self, length, length)"
   ]
  },
  {
   "cell_type": "markdown",
   "metadata": {},
   "source": [
    "### 2. super()"
   ]
  },
  {
   "cell_type": "code",
   "execution_count": 51,
   "metadata": {},
   "outputs": [],
   "source": [
    "# class Rectangle:\n",
    "#     def __init__(self, length, width):\n",
    "#         self.length = length\n",
    "#         self.width = width\n",
    "        \n",
    "#     def area(self):\n",
    "#         return self.length * self.width\n",
    "    \n",
    "        \n",
    "# class Cube(Rectangle):\n",
    "#     def __init__(self, length, width, height):\n",
    "#         self.length = length\n",
    "#         self.width = width\n",
    "#         self.height = height\n",
    "        \n",
    "#     def volume(self):\n",
    "#         return self.length * self.width * self.height"
   ]
  },
  {
   "cell_type": "code",
   "execution_count": 53,
   "metadata": {},
   "outputs": [],
   "source": [
    "# class Rectangle:\n",
    "#     def __init__(self, length, width):\n",
    "#         self.length = length\n",
    "#         self.width = width\n",
    "        \n",
    "#     def area(self):\n",
    "#         return self.length * self.width\n",
    "    \n",
    "        \n",
    "# class Cube(Rectangle):\n",
    "#     def __init__(self, length, width, height):\n",
    "#         super().__init__(length, width)\n",
    "#         self.height = height\n",
    "        \n",
    "#     def volume(self):\n",
    "#         return super().area() * self.height\n",
    "    \n",
    "# cube = Cube(2, 3, 4)\n",
    "# cube.volume()"
   ]
  },
  {
   "cell_type": "markdown",
   "metadata": {},
   "source": [
    "### 3. magic functions\n",
    "#### 3.1  __str__\n",
    "#### 3.2  __repr__\n",
    "#### 3.3  __class__\n",
    "#### 3.4  __name__"
   ]
  },
  {
   "cell_type": "code",
   "execution_count": 12,
   "metadata": {
    "scrolled": true
   },
   "outputs": [],
   "source": [
    "# class Rectangle:\n",
    "#     example_attribute = 5\n",
    "    \n",
    "#     def __init__(self, length, width):\n",
    "#         self.length = length\n",
    "#         self.width = width\n",
    "        \n",
    "#     def area(self):\n",
    "#         return self.length * self.width\n",
    "    \n",
    "#     def perimeter(self):\n",
    "#         return 2 * self.length + 2 * self.width\n",
    "    \n",
    "#     def show_object(self):\n",
    "#         return f\"I'm Rectangle and I have length {self.length} and width {self.width}\"\n",
    "        \n",
    "#     def __str__(self):\n",
    "#         return f\"worked \"\n",
    "    \n",
    "#     def __repr__(self):\n",
    "#         return f\"I'm Rectangle and I have length {self.length} and width {self.width}\"\n",
    "    \n",
    "    \n",
    "\n",
    "# rectangle = Rectangle(4, 6)\n",
    "# print(rectangle)\n",
    "    \n",
    "#     def __repr__(self):\n",
    "#         return f\"I'm Rectangle and I have legth {self.length} and width {self.width}\"\n",
    "\n",
    "# my_rectangle = Rectangle(3, 5)\n",
    "# print(my_rectangle)\n",
    "# print(my_rectangle.__class__) # return class attribute\n",
    "# print(my_rectangle.__class__.example_attribute)\n",
    "# print(my_rectangle.__class__.__name__)"
   ]
  },
  {
   "cell_type": "markdown",
   "metadata": {},
   "source": [
    "### 4. namespace"
   ]
  },
  {
   "cell_type": "code",
   "execution_count": 13,
   "metadata": {},
   "outputs": [],
   "source": [
    "# class Rectangle:\n",
    "#     length = 1\n",
    "    \n",
    "#     def get_length(self):\n",
    "#         length = 2\n",
    "#         return length\n",
    "    \n",
    "# length = 3\n",
    "\n",
    "# def get_length():\n",
    "#     length = 4\n",
    "#     return length\n",
    "\n",
    "# rectangle = Rectangle()\n",
    "\n",
    "# print(rectangle.length)\n",
    "# print(Rectangle.length)\n",
    "# print(rectangle.get_length())\n",
    "# print(length)\n",
    "# print(get_length())"
   ]
  }
 ],
 "metadata": {
  "kernelspec": {
   "display_name": "Python 3",
   "language": "python",
   "name": "python3"
  },
  "language_info": {
   "codemirror_mode": {
    "name": "ipython",
    "version": 3
   },
   "file_extension": ".py",
   "mimetype": "text/x-python",
   "name": "python",
   "nbconvert_exporter": "python",
   "pygments_lexer": "ipython3",
   "version": "3.6.9"
  }
 },
 "nbformat": 4,
 "nbformat_minor": 4
}
