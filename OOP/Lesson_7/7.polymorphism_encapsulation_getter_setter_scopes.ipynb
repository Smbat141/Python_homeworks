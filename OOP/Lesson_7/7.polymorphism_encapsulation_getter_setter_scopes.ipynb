{
 "cells": [
  {
   "cell_type": "markdown",
   "metadata": {},
   "source": [
    "# 7. polymorphism, encapsulation, getter, setter, scopes\n",
    "\n",
    "### 1. polymorphism"
   ]
  },
  {
   "cell_type": "code",
   "execution_count": 6,
   "metadata": {},
   "outputs": [],
   "source": [
    "# class AbstractHuman:\n",
    "#     def run():\n",
    "#         pass\n",
    "\n",
    "# class Man(AbstractHuman):\n",
    "#     def run(self):\n",
    "#         return \"run Forest run\"\n",
    "\n",
    "# class Womman(AbstractHuman):\n",
    "#     def run(self):\n",
    "#         return \"No, I don't want to run!!!\"\n",
    "\n",
    "\n",
    "    \n",
    "# def run_human(human):\n",
    "#     return human.run()\n",
    "\n",
    "# adam = Man()\n",
    "# eva = Womman()\n",
    "\n",
    "# print(run_human(adam))\n",
    "# print(run_human(eva))"
   ]
  },
  {
   "cell_type": "markdown",
   "metadata": {},
   "source": [
    "### 2. setter"
   ]
  },
  {
   "cell_type": "code",
   "execution_count": 11,
   "metadata": {},
   "outputs": [],
   "source": [
    "# class Refrigerator:\n",
    "#     def __init__(self):\n",
    "#         self.is_door_open = False\n",
    "#         self.is_light_on = False\n",
    "    \n",
    "#     def open_door(self):\n",
    "#         self.is_door_open = True\n",
    "#         self.is_light_on = True\n",
    "\n",
    "# toshiba = Refrigerator()\n",
    "# toshiba.open_door()\n",
    "# toshiba.open_door()\n",
    "\n",
    "# toshiba.is_door_open = True\n",
    "\n",
    "# print(toshiba.is_door_open)\n",
    "# print(toshiba.is_light_on)"
   ]
  },
  {
   "cell_type": "code",
   "execution_count": null,
   "metadata": {},
   "outputs": [],
   "source": [
    "# class Refrigerator:\n",
    "#     def __init__(self):\n",
    "#         self.is_door_open = False\n",
    "#         self.is_light_on = False\n",
    "        \n",
    "#     def open_door(self):\n",
    "#         self.is_door_open = True\n",
    "#         self.is_light_on = True\n",
    "    \n",
    "# xaladenik = Refrigerator()\n",
    "# print(xaladenik.is_door_open)\n",
    "# print(xaladenik.is_light_on)\n",
    "\n",
    "# print(xaladenik.open_door())\n",
    "\n",
    "# print(xaladenik.is_door_open)\n",
    "# print(xaladenik.is_light_on)"
   ]
  },
  {
   "cell_type": "code",
   "execution_count": 12,
   "metadata": {},
   "outputs": [],
   "source": [
    "# class Refrigerator:\n",
    "#     privates = ['is_door_open', 'is_light_on']\n",
    "    \n",
    "#     def __init__(self):\n",
    "#         self.__dict__['is_door_open'] = False\n",
    "#         self.__dict__['is_light_on'] = False\n",
    "        \n",
    "#     def __setattr__(self, attrname, value):\n",
    "#         if attrname in self.privates:\n",
    "#             raise Exception(f'{attrname} can\\'t be changed')\n",
    "#         else:\n",
    "#             self.__dict__[attrname] = value\n",
    "            \n",
    "#     def open_door(self):\n",
    "#         self.__dict__['is_door_open'] = True\n",
    "#         self.__dict__['is_light_on'] = True\n",
    "            \n",
    "# x = Refrigerator()\n",
    "# print(x.is_door_open) # False\n",
    "# x.open_door()\n",
    "# print(x.is_door_open)\n",
    "# x.is_door_open = True "
   ]
  },
  {
   "cell_type": "markdown",
   "metadata": {},
   "source": [
    "### 2. getter"
   ]
  },
  {
   "cell_type": "code",
   "execution_count": 16,
   "metadata": {},
   "outputs": [],
   "source": [
    "# class Privat:\n",
    "    \n",
    "#     def __getattribute__(self, attrname, from_class = False):\n",
    "#         if from_class:\n",
    "#             return super().__getattribute__(attrname)\n",
    "#         raise Exception(f'you can\\'t see {attrname} attribute')\n",
    "    \n",
    "# class User(Privat):\n",
    "    \n",
    "#     def __init__(self, name):\n",
    "#         self.name = name\n",
    "#         print(super().__getattribute__('name', from_class = True)) # classi nersum karanq mi qich djvarutyunnerov stanaq\n",
    "        \n",
    "        \n",
    "# x = User('Vardan')\n",
    "# print(x.name) # error\n",
    "# print(dir(x))"
   ]
  },
  {
   "cell_type": "markdown",
   "metadata": {},
   "source": [
    "### 3. protected, private"
   ]
  },
  {
   "cell_type": "code",
   "execution_count": 27,
   "metadata": {},
   "outputs": [],
   "source": [
    "# class Refrigerator:\n",
    "#     def __init__(self):\n",
    "#         self.__is_door_open = False\n",
    "#         self.__is_light_on = False\n",
    "        \n",
    "#     def open_door(self):\n",
    "#         self.__is_door_open = True\n",
    "#         self.__is_light_on = True\n",
    "\n",
    "# x = Refrigerator()\n",
    "# # print(x.__is_door_open) # error\n",
    "# # print(dir(x))\n",
    "# print(x._Refrigerator__is_door_open)\n",
    "# x.__is_door_open = 7\n",
    "# print(dir(x))\n",
    "# philosophize about _ :)"
   ]
  }
 ],
 "metadata": {
  "kernelspec": {
   "display_name": "Python 3",
   "language": "python",
   "name": "python3"
  },
  "language_info": {
   "codemirror_mode": {
    "name": "ipython",
    "version": 3
   },
   "file_extension": ".py",
   "mimetype": "text/x-python",
   "name": "python",
   "nbconvert_exporter": "python",
   "pygments_lexer": "ipython3",
   "version": "3.6.9"
  }
 },
 "nbformat": 4,
 "nbformat_minor": 4
}
