{
 "cells": [
  {
   "cell_type": "markdown",
   "metadata": {},
   "source": [
    "# 1. class attribute, static/class method, inheritance\n",
    "\n",
    "## Chapter 1\n",
    "### 1. class attribute"
   ]
  },
  {
   "cell_type": "code",
   "execution_count": 24,
   "metadata": {},
   "outputs": [],
   "source": [
    "# class Man: \n",
    "#     def seat_down(self):\n",
    "#         self.state = \"nstac em\"\n",
    "#         return self.state"
   ]
  },
  {
   "cell_type": "code",
   "execution_count": 23,
   "metadata": {},
   "outputs": [],
   "source": [
    "# class Man: \n",
    "#     legs = 2\n",
    "#     hands = 2\n",
    "#     eyes = 2\n",
    "    \n",
    "#     def seat_down(self):\n",
    "#         self.state = \"nstac em\"\n",
    "#         return self.state\n",
    "    \n",
    "#     def change_eyes(self):\n",
    "#         self.eyes = 7\n",
    "#         Man.eyes = 7\n",
    "\n",
    "# man1 = Man()\n",
    "# man1.legs = 7\n",
    "# print(Man.legs)\n",
    "# print(man1.legs)\n",
    "\n",
    "# Man.legs = 7\n",
    "# print(Man.legs)\n",
    "# print(man1.legs)"
   ]
  },
  {
   "cell_type": "markdown",
   "metadata": {},
   "source": [
    "### 2. static/class method"
   ]
  },
  {
   "cell_type": "code",
   "execution_count": 8,
   "metadata": {},
   "outputs": [],
   "source": [
    "# class Man: \n",
    "#     legs = 2\n",
    "#     hands = 2\n",
    "#     eyes = 2\n",
    "#     is_chiped = False\n",
    "    \n",
    "#     def seat_down(self):\n",
    "#         self.state = \"nstac em\"\n",
    "#         return self.state\n",
    "    \n",
    "#     def change_eyes(self):\n",
    "#         self.eyes = 7\n",
    "#         Man.eyes = 7\n",
    "    \n",
    "#     @staticmethod\n",
    "#     def add_chip():\n",
    "#         Man.is_chiped = True\n",
    "\n",
    "#     @classmethod\n",
    "#     def add_chip(cls):\n",
    "#         print(cls)\n",
    "#         cls.is_chiped = True\n",
    "        \n",
    "# Man.add_chip()\n",
    "\n",
    "# check men() count"
   ]
  },
  {
   "cell_type": "markdown",
   "metadata": {},
   "source": [
    "### 3. inheritance"
   ]
  },
  {
   "cell_type": "code",
   "execution_count": 22,
   "metadata": {},
   "outputs": [
    {
     "name": "stdout",
     "output_type": "stream",
     "text": [
      "30\n"
     ]
    }
   ],
   "source": [
    "# class A:\n",
    "#     spam = 'spam from class A'\n",
    "#     eggs = 'eggs from class A'\n",
    "    \n",
    "    \n",
    "# class B(A):\n",
    "#     spam = 'spam from class B'\n",
    "# #     eggs = 'eggs from class B'\n",
    "\n",
    "# class C(B):\n",
    "#     pass\n",
    "\n",
    "# x = C()\n",
    "# print(x.spam) # with class B\n",
    "# print(x.eggs) # with class A"
   ]
  }
 ],
 "metadata": {
  "kernelspec": {
   "display_name": "Python 3",
   "language": "python",
   "name": "python3"
  },
  "language_info": {
   "codemirror_mode": {
    "name": "ipython",
    "version": 3
   },
   "file_extension": ".py",
   "mimetype": "text/x-python",
   "name": "python",
   "nbconvert_exporter": "python",
   "pygments_lexer": "ipython3",
   "version": "3.6.9"
  }
 },
 "nbformat": 4,
 "nbformat_minor": 4
}
