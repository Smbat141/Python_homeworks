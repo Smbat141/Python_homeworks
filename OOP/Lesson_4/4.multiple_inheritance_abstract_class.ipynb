{
 "cells": [
  {
   "cell_type": "markdown",
   "metadata": {},
   "source": [
    "# 4. multiple inheritance, abstract class\n",
    "\n",
    "### 1. multiple inheritance"
   ]
  },
  {
   "cell_type": "code",
   "execution_count": 19,
   "metadata": {},
   "outputs": [],
   "source": [
    "# class A:\n",
    "#     pass\n",
    "# #     def m(self):\n",
    "# #         print(\"m of A called\")\n",
    "        \n",
    "# class B:\n",
    "#     pass\n",
    "# #     def m(self):\n",
    "# #         print(\"m of B called\")\n",
    "        \n",
    "# class C:\n",
    "# #     pass\n",
    "#     def m(self):\n",
    "#         print(\"m of C called\")\n",
    "\n",
    "# class E(A):\n",
    "#     pass\n",
    "# #     def m(self):\n",
    "# #         print(\"m of E called\")\n",
    "        \n",
    "# class F(B):\n",
    "#     pass\n",
    "# #     def m(self):\n",
    "# #         print(\"m of F called\")\n",
    "        \n",
    "# class G(C):\n",
    "#     pass\n",
    "# #     def m(self):\n",
    "# #         print(\"m of G called\")\n",
    "        \n",
    "# class D(E, F, G):\n",
    "# #     def m(self):\n",
    "# #         print(\"m of D called\")\n",
    "#     pass\n",
    "\n",
    "# x = D()\n",
    "# x.m()\n",
    "# D.mro()"
   ]
  },
  {
   "cell_type": "markdown",
   "metadata": {},
   "source": [
    "### 2. abstract class"
   ]
  },
  {
   "cell_type": "code",
   "execution_count": null,
   "metadata": {},
   "outputs": [],
   "source": [
    "# class Man:\n",
    "#     legs = 2\n",
    "#     hands = 2\n",
    "#     eyes =  2\n",
    "    \n",
    "#     def __init__(self):\n",
    "#         raise Exception('this class is abstract')\n",
    "    \n",
    "#     def move(self):\n",
    "#         raise Exception('move must be defined')\n",
    "        \n",
    "#     def show(self):\n",
    "#         print(\"show man\")\n",
    "\n",
    "# vazgen = Man()\n",
    "# vazgen.move() # error\n",
    "\n",
    "# class Driver(Man):\n",
    "#     prava = True\n",
    "    \n",
    "#     def __init__(self):\n",
    "#         pass\n",
    "    \n",
    "#     def move(self):\n",
    "#         print('qshum em')\n",
    "\n",
    "# armen = Driver()\n",
    "# armen.move()\n",
    "\n",
    "# class Spaceman(Man):\n",
    "    \n",
    "#     def __init__(self):\n",
    "#         pass\n",
    "    \n",
    "#     def move(self):\n",
    "#         print('trnum em')\n",
    "        \n",
    "        \n",
    "# class Police(Man):\n",
    "    \n",
    "#     def __init__(self):\n",
    "#         pass\n",
    "    \n",
    "#     def move(self):\n",
    "#         print('trnum em')\n",
    "\n",
    "# jarvis = Police()\n",
    "# jarvis.move()"
   ]
  },
  {
   "cell_type": "markdown",
   "metadata": {},
   "source": [
    "### 3. abc module"
   ]
  },
  {
   "cell_type": "code",
   "execution_count": null,
   "metadata": {
    "scrolled": true
   },
   "outputs": [],
   "source": [
    "# from abc import ABC, abstractmethod\n",
    "\n",
    "# class Man(ABC):\n",
    "#     legs = 2\n",
    "#     hands = 2\n",
    "#     eyes = 2\n",
    "\n",
    "#     @abstractmethod\n",
    "#     def seat_down(self):\n",
    "#         pass\n",
    "\n",
    "# vazgen = Man()\n",
    "\n",
    "# class Spaceman(Man):\n",
    "#     pass\n",
    "\n",
    "# jarvis = Spaceman()"
   ]
  }
 ],
 "metadata": {
  "kernelspec": {
   "display_name": "Python 3",
   "language": "python",
   "name": "python3"
  },
  "language_info": {
   "codemirror_mode": {
    "name": "ipython",
    "version": 3
   },
   "file_extension": ".py",
   "mimetype": "text/x-python",
   "name": "python",
   "nbconvert_exporter": "python",
   "pygments_lexer": "ipython3",
   "version": "3.6.9"
  }
 },
 "nbformat": 4,
 "nbformat_minor": 4
}
