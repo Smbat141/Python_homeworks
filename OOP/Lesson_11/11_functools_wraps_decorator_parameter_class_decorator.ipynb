{
 "cells": [
  {
   "cell_type": "markdown",
   "metadata": {},
   "source": [
    "# 11. method decorator, decorator for class"
   ]
  },
  {
   "cell_type": "markdown",
   "metadata": {},
   "source": [
    "### 1. functools.wraps"
   ]
  },
  {
   "cell_type": "code",
   "execution_count": 42,
   "metadata": {},
   "outputs": [],
   "source": [
    "# from functools import wraps\n",
    "\n",
    "# def my_decorator(func):\n",
    "#     @wraps(func)\n",
    "#     def wrap():\n",
    "        \n",
    "#         \"\"\"\n",
    "# my wrapper documentation\n",
    "#         \"\"\"\n",
    "#         print('before my func')\n",
    "#         func()\n",
    "#     return wrap\n",
    "    \n",
    "# @my_decorator\n",
    "# def my_func():\n",
    "#     \"\"\"\n",
    "# my func documentation\n",
    "#     \"\"\"\n",
    "#     print('from my func')\n",
    "\n",
    "# print(my_func.__name__)\n",
    "# print(my_func.__doc__)\n",
    "# my_func()"
   ]
  },
  {
   "cell_type": "markdown",
   "metadata": {},
   "source": [
    "### 2. decorator with parameters"
   ]
  },
  {
   "cell_type": "code",
   "execution_count": 69,
   "metadata": {},
   "outputs": [],
   "source": [
    "# def add_type(return_type):\n",
    "#     def float_and_return(function):\n",
    "#         def wrapper(*args, **kwargs):\n",
    "#             args = [float(arg) for arg in args]\n",
    "#             result = function(*args, **kwargs)\n",
    "#             if return_type == \"float\":\n",
    "#                 result = float(result)\n",
    "#             elif return_type == \"int\":\n",
    "#                 result = int(result)\n",
    "#             return result\n",
    "\n",
    "#         return wrapper\n",
    "#     return float_and_return\n",
    "\n",
    "# @add_type(\"float\")\n",
    "# def mean(first, second, *rest):\n",
    "#     numbers = (first, second) + rest\n",
    "#     return sum(numbers) / len(numbers)\n",
    "\n",
    "# mean(1, 2, 3, \"9\")\n",
    "# float_and_return = add_type(\"int\")\n",
    "# mean = float_and_return()\n",
    "# mean(1, 2, 3, \"4\")"
   ]
  },
  {
   "cell_type": "markdown",
   "metadata": {},
   "source": [
    "### 3. class decorator"
   ]
  },
  {
   "cell_type": "code",
   "execution_count": 79,
   "metadata": {},
   "outputs": [],
   "source": [
    "# class MyDecorator:\n",
    "#     def __init__(self, func):\n",
    "#         print('decorator init')\n",
    "#         self.func = func\n",
    "        \n",
    "#     def __call__(self):\n",
    "#         print('decorator call method')\n",
    "#         self.func()\n",
    "        \n",
    "        \n",
    "# @MyDecorator\n",
    "# def my_func():\n",
    "#    print('from my func')\n",
    "    \n",
    "# my_func()"
   ]
  },
  {
   "cell_type": "code",
   "execution_count": 73,
   "metadata": {},
   "outputs": [],
   "source": [
    "# class MyDecorator:\n",
    "    \n",
    "#     def __init__(self, func):\n",
    "#         print('decorator init')\n",
    "#         self.func = func\n",
    "        \n",
    "#     def __call__(self):\n",
    "#         print('decorator call method')\n",
    "#         self.func()\n",
    "\n",
    "# def my_func():\n",
    "#     print('from my func') \n",
    "\n",
    "# myfunc = MyDecorator(my_func) \n",
    "# myfunc()"
   ]
  }
 ],
 "metadata": {
  "kernelspec": {
   "display_name": "Python 3",
   "language": "python",
   "name": "python3"
  },
  "language_info": {
   "codemirror_mode": {
    "name": "ipython",
    "version": 3
   },
   "file_extension": ".py",
   "mimetype": "text/x-python",
   "name": "python",
   "nbconvert_exporter": "python",
   "pygments_lexer": "ipython3",
   "version": "3.6.9"
  }
 },
 "nbformat": 4,
 "nbformat_minor": 4
}
