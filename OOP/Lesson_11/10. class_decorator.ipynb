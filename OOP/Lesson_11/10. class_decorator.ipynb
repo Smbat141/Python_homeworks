{
 "cells": [
  {
   "cell_type": "markdown",
   "metadata": {},
   "source": [
    "# 10. context managers, decorators, class decorator"
   ]
  },
  {
   "cell_type": "markdown",
   "metadata": {},
   "source": [
    "### 1. context managers"
   ]
  },
  {
   "cell_type": "code",
   "execution_count": 20,
   "metadata": {},
   "outputs": [],
   "source": [
    "# ask to students about alternative for with\n",
    "\n",
    "# class CustomFile:\n",
    "#     def open(self, file_name, mode = 'r'):\n",
    "#         print('open file')\n",
    "#         self.file = open(file_name, mode)\n",
    "        \n",
    "#     def write(self, text):\n",
    "#         self.file.write(text)\n",
    "    \n",
    "#     def __enter__(self):\n",
    "#         print('starting with block')\n",
    "#         return self\n",
    "    \n",
    "#     def __exit__(self, exc_type, exc_value, exc_tb):\n",
    "#         if exc_type is None:\n",
    "#             print('close file')\n",
    "#             self.file.close() # ask question to students\n",
    "#         else:\n",
    "#             print('raise an exception!', exc_type, exc_value, exc_tb, sep = '||')\n",
    "#             return False\n",
    "           \n",
    "# with CustomFile() as file: \n",
    "#     file.open('test.txt', 'w')\n",
    "#     file.write('Cool')\n",
    "#     raise Exception('error in block')"
   ]
  },
  {
   "cell_type": "markdown",
   "metadata": {},
   "source": [
    "### 2. decorators"
   ]
  },
  {
   "cell_type": "code",
   "execution_count": 3,
   "metadata": {},
   "outputs": [],
   "source": [
    "# def my_decorator(func):\n",
    "#     def wrap():\n",
    "#         print('before my func')\n",
    "#         func()\n",
    "#     return wrap\n",
    "    \n",
    "# @my_decorator\n",
    "# def my_func():\n",
    "#     print('from my func')\n",
    "\n",
    "# my_func()"
   ]
  },
  {
   "cell_type": "markdown",
   "metadata": {},
   "source": [
    "### 3. class decorator"
   ]
  },
  {
   "cell_type": "code",
   "execution_count": 16,
   "metadata": {},
   "outputs": [],
   "source": [
    "# class MyDecorator:\n",
    "#     def __init__(self, func):\n",
    "#         print('decorator init')\n",
    "#         self.func = func\n",
    "        \n",
    "#     def __call__(self):\n",
    "#         print('decorator call method')\n",
    "#         self.func()\n",
    "        \n",
    "        \n",
    "# @MyDecorator\n",
    "# def my_func():\n",
    "#    print('from my func')\n",
    "    \n",
    "# my_func()"
   ]
  },
  {
   "cell_type": "code",
   "execution_count": 17,
   "metadata": {},
   "outputs": [],
   "source": [
    "# nuyn bann vonc vor senc anenq\n",
    "# class MyDecorator:\n",
    "#     def __init__(self, func):\n",
    "#         print('decorator init')\n",
    "#         self.func = func\n",
    "        \n",
    "#     def __call__(self):\n",
    "#         print('decorator call method')\n",
    "#         self.func()\n",
    "\n",
    "# def my_func():\n",
    "#     print('from my func') \n",
    "\n",
    "# myfunc = MyDecorator(my_func) \n",
    "# myfunc()"
   ]
  }
 ],
 "metadata": {
  "kernelspec": {
   "display_name": "Python 3",
   "language": "python",
   "name": "python3"
  },
  "language_info": {
   "codemirror_mode": {
    "name": "ipython",
    "version": 3
   },
   "file_extension": ".py",
   "mimetype": "text/x-python",
   "name": "python",
   "nbconvert_exporter": "python",
   "pygments_lexer": "ipython3",
   "version": "3.6.9"
  }
 },
 "nbformat": 4,
 "nbformat_minor": 4
}
