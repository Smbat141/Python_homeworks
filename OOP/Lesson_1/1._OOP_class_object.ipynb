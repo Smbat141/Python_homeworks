{
 "cells": [
  {
   "cell_type": "markdown",
   "metadata": {},
   "source": [
    "# 1. OOP, class, object\n",
    "\n",
    "## Chapter 1\n",
    "\n",
    "### 1. OOP Introduction\n",
    "### 2. OOP 4 main principles \n",
    "####  2.1. Encapsulation, 2.2. Inheritance, 2.3. Polymorphism, 2.4. Abstraction\n",
    "\n",
    "![alt text](OOP.jpeg \"Title\")"
   ]
  },
  {
   "cell_type": "markdown",
   "metadata": {},
   "source": [
    "## Chapter 2\n",
    "### 1. class, object"
   ]
  },
  {
   "cell_type": "code",
   "execution_count": 24,
   "metadata": {},
   "outputs": [],
   "source": [
    "# class Man:\n",
    "#     pass\n",
    "\n",
    "# man1 = Man()\n",
    "# print(type(man1))\n",
    "\n",
    "# numbers = [1, 2, 3, 4, 5]\n",
    "# print(type(numbers))\n",
    "\n",
    "# print(type(Man))\n",
    "# print(type([1, 2, 3]))"
   ]
  },
  {
   "cell_type": "markdown",
   "metadata": {},
   "source": [
    "### 2. method, self"
   ]
  },
  {
   "cell_type": "code",
   "execution_count": 25,
   "metadata": {},
   "outputs": [],
   "source": [
    "# class Man:\n",
    "#     def seat_down(self): # explain self \n",
    "#         print(\"es nsteci\")\n",
    "    \n",
    "#     def stand_up(self):\n",
    "#         print(\"es kangneci\")\n",
    "        \n",
    "        \n",
    "# vazgen = Man()\n",
    "# vazgen.seat_down()\n",
    "# vazgen.stand_up()\n",
    "\n",
    "# numbers = [1, 2, 3, 4, 5]\n",
    "# print(numbers.copy())"
   ]
  },
  {
   "cell_type": "markdown",
   "metadata": {},
   "source": [
    "### 3. object attributes"
   ]
  },
  {
   "cell_type": "code",
   "execution_count": 26,
   "metadata": {},
   "outputs": [],
   "source": [
    "# ToDo: explain init\n",
    "\n",
    "# class Man: \n",
    "#     def seat_down(self): # explain self\n",
    "#         self.state = \"nstac em\"\n",
    "#         print(\"es nsteci\")\n",
    "    \n",
    "#     def stand_up(self):\n",
    "#         self.state = \"kangnac em\"\n",
    "#         print(\"es kangneci\")\n",
    "    \n",
    "        \n",
    "# man1 = Man()\n",
    "# man1.seat_down()\n",
    "# man1.stand_up()\n",
    "\n",
    "# print(man1.state)"
   ]
  },
  {
   "cell_type": "markdown",
   "metadata": {},
   "source": [
    "### 4. init"
   ]
  },
  {
   "cell_type": "code",
   "execution_count": 27,
   "metadata": {},
   "outputs": [],
   "source": [
    "# class Man: \n",
    "#     def __init__(self, fist_name, last_name):\n",
    "#         self.first_name = fist_name\n",
    "#         self.last_name = last_name\n",
    "        \n",
    "#     def seat_down(self): # explain self\n",
    "#         self.state = \"nstac em\"\n",
    "#         print(\"es nsteci\")\n",
    "    \n",
    "#     def stand_up(self):\n",
    "#         self.state = \"kangnac em\"\n",
    "#         print(\"es kangneci\")\n",
    "    \n",
    "        \n",
    "# man1 = Man(\"Vardan\", \"Vardanyan\")\n",
    "# print(man1.first_name, man1.last_name)\n",
    "# man2 = Man(\"Armen\", \"Armenakyan\")\n",
    "# print(man2.first_name, man2.last_name)\n",
    "\n",
    "\n",
    "# man1.gender = \"male\"\n",
    "# print(man1.gender)\n",
    "# print(man2.gender) # ask question to Jarvis\n",
    "\n",
    "\n",
    "# numbers = [1, 2, 3, 4]\n",
    "\n",
    "# numbers.name = \"Armen\"\n",
    "# print(numbers)"
   ]
  }
 ],
 "metadata": {
  "kernelspec": {
   "display_name": "Python 3",
   "language": "python",
   "name": "python3"
  },
  "language_info": {
   "codemirror_mode": {
    "name": "ipython",
    "version": 3
   },
   "file_extension": ".py",
   "mimetype": "text/x-python",
   "name": "python",
   "nbconvert_exporter": "python",
   "pygments_lexer": "ipython3",
   "version": "3.6.9"
  }
 },
 "nbformat": 4,
 "nbformat_minor": 4
}
