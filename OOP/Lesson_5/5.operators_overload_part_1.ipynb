{
 "cells": [
  {
   "cell_type": "markdown",
   "metadata": {},
   "source": [
    "# 5. operators overload part 1\n",
    "\n",
    "### 1. __ getitem __"
   ]
  },
  {
   "cell_type": "code",
   "execution_count": 10,
   "metadata": {},
   "outputs": [],
   "source": [
    "# class Pythonist:\n",
    "#     friends = [\"Lilit\", \"Aren\", \"Janna\", \"Samvel\", \"Gohar\", \"Armen\", \"Luiza\"]\n",
    "    \n",
    "#     def __getitem__(self, index):\n",
    "#         print(f'get my friend {self.friends[index]}')\n",
    "        \n",
    "        \n",
    "# x = Pythonist()\n",
    "# x[3]\n",
    "\n",
    "# class Pythonist:\n",
    "    \n",
    "#     friends = [\"Lilit\", \"Aren\", \"Janna\", \"Samvel\", \"Gohar\", \"Armen\", \"Luiza\"]\n",
    "\n",
    "#     # get slice()\n",
    "#     def __getitem__(self, index):\n",
    "#         print(index)\n",
    "#         return self.friends[index]\n",
    "    \n",
    "# x = Pythonist()\n",
    "# print(x[1:3])\n",
    "\n",
    "# for call to __getitem__ if exists\n",
    "# for item in x: \n",
    "#     print(item)\n",
    "\n",
    "# print('Gohar' in x) \n",
    "\n",
    "# print(tuple(x))"
   ]
  },
  {
   "cell_type": "markdown",
   "metadata": {},
   "source": [
    "### 2.__ setitem __"
   ]
  },
  {
   "cell_type": "code",
   "execution_count": 17,
   "metadata": {},
   "outputs": [],
   "source": [
    "# class Pythonist:\n",
    "#     friends = [\"Lilit\", \"Aren\", \"Janna\", \"Samvel\", \"Gohar\", \"Armen\", \"Luiza\"]\n",
    "    \n",
    "#     def __setitem__(self, index, value):\n",
    "#         print(f'changed {index} -> {value}')\n",
    "#         self.friends[index] = value\n",
    "        \n",
    "        \n",
    "# y = Pythonist()\n",
    "\n",
    "# print(y.friends)\n",
    "# y[5] = 'Vardan' # index\n",
    "# print(y.friends)\n",
    "\n",
    "# print(y.friends) # slice\n",
    "# y[1:3] = [8]\n",
    "# print(y.friends)"
   ]
  },
  {
   "cell_type": "markdown",
   "metadata": {},
   "source": [
    "### 3. __ getattr __"
   ]
  },
  {
   "cell_type": "code",
   "execution_count": 27,
   "metadata": {
    "scrolled": true
   },
   "outputs": [],
   "source": [
    "# class Pythonist:\n",
    "    \n",
    "#     friends = [\"Lilit\", \"Aren\", \"Janna\", \"Samvel\", \"Gohar\", \"Armen\", \"Luiza\"]\n",
    "\n",
    "#     # return slice object\n",
    "#     def __getattr__(self, attribute_name):\n",
    "        \n",
    "#         if attribute_name == 'name':\n",
    "#             return 'Jarvis'\n",
    "#         else:\n",
    "#             raise AttributeError('Attribute does not exist')\n",
    "        \n",
    "\n",
    "        \n",
    "# x = Pythonist()\n",
    "\n",
    "# print(x.friends)\n",
    "# print(x.name)\n",
    "# x.last_name \n",
    "\n",
    "\n",
    "# print('friends - ', getattr(x, \"friends\"))"
   ]
  },
  {
   "cell_type": "markdown",
   "metadata": {},
   "source": [
    "### 3. __ setattr __"
   ]
  },
  {
   "cell_type": "code",
   "execution_count": 33,
   "metadata": {},
   "outputs": [],
   "source": [
    "# class Pythonist:\n",
    "    \n",
    "#     friends = [\"Lilit\", \"Aren\", \"Janna\", \"Samvel\", \"Gohar\", \"Armen\", \"Luiza\"]\n",
    "\n",
    "#     # recursion\n",
    "#     def __setattr__(self, attribute_name, value):\n",
    "#         print('rekursia')\n",
    "#         self.attribute_name = value \n",
    "        \n",
    "# set to dict \n",
    "#     def __setattr__(self, attribute_name, value):\n",
    "       \n",
    "#         self.__dict__[attribute_name] = value \n",
    "\n",
    "        \n",
    "# x = Pythonist()\n",
    "\n",
    "# x.friend = 'Vardan' \n",
    "# print(x.friend)\n",
    "# x.name = 'Jarvis'"
   ]
  },
  {
   "cell_type": "markdown",
   "metadata": {},
   "source": [
    "### 3. __ getattribute __ "
   ]
  },
  {
   "cell_type": "code",
   "execution_count": 57,
   "metadata": {},
   "outputs": [],
   "source": [
    "# class Pythonist:    \n",
    "#     friends = [\"Lilit\", \"Aren\", \"Janna\", \"Samvel\", \"Gohar\", \"Armen\", \"Luiza\"]\n",
    "\n",
    "#     def __getattr__(self, attribute_name):\n",
    "#         print('getattr')\n",
    "    \n",
    "#     def __getattribute__(self, attribute_name):\n",
    "#         print('getattribute')\n",
    "#         self.friends  # ask question to student\n",
    "#         super().__getattribute__(\"friends\") # ask question to student\n",
    "#         object.__getattribute__(self, \"friends\")\n",
    "        \n",
    "\n",
    "# x = Pythonist()\n",
    "\n",
    "# print(x.friends)\n",
    "# print(x.name)"
   ]
  }
 ],
 "metadata": {
  "kernelspec": {
   "display_name": "Python 3",
   "language": "python",
   "name": "python3"
  },
  "language_info": {
   "codemirror_mode": {
    "name": "ipython",
    "version": 3
   },
   "file_extension": ".py",
   "mimetype": "text/x-python",
   "name": "python",
   "nbconvert_exporter": "python",
   "pygments_lexer": "ipython3",
   "version": "3.6.9"
  }
 },
 "nbformat": 4,
 "nbformat_minor": 4
}
