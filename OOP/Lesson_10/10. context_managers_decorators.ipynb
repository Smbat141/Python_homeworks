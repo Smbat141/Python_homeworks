{
 "cells": [
  {
   "cell_type": "markdown",
   "metadata": {},
   "source": [
    "# 10. context managers, decorators, class decorator"
   ]
  },
  {
   "cell_type": "markdown",
   "metadata": {},
   "source": [
    "### 1. context managers"
   ]
  },
  {
   "cell_type": "code",
   "execution_count": 27,
   "metadata": {},
   "outputs": [],
   "source": [
    "# # ask to students about alternative for with\n",
    "\n",
    "# class CustomFile:\n",
    "#     def __init__(self, file_name, mode=\"r\"):\n",
    "#         self.mode = mode\n",
    "#         self.file = open(self.mode, self.mode)\n",
    "        \n",
    "#     def write(self, text):\n",
    "#         self.file.write(text)\n",
    "    \n",
    "#     def __enter__(self):\n",
    "#         return self.file\n",
    "    \n",
    "#     def __exit__(self, exc_type, exc_value, exc_tb):\n",
    "#         if exc_type is None:\n",
    "#             print('close file')\n",
    "#             self.file.close() # ask question to students\n",
    "#         else:\n",
    "#             print('raise an exception!', exc_type, exc_value, exc_tb, sep = '||')\n",
    "            \n",
    "#             return True\n",
    "           \n",
    "# with CustomFile(\"asd.txt\", \"w\") as file:\n",
    "#     file.write('Cool')\n",
    "#     raise Exception('error in block')"
   ]
  },
  {
   "cell_type": "markdown",
   "metadata": {},
   "source": [
    "### 2. decorators"
   ]
  },
  {
   "cell_type": "code",
   "execution_count": 34,
   "metadata": {},
   "outputs": [],
   "source": [
    "# def my_decorator(func):\n",
    "#     def wrap():\n",
    "#         print('before my func')\n",
    "#         func()\n",
    "#         print('after my func')\n",
    "#     return wrap\n",
    "    \n",
    "\n",
    "# def my_func():\n",
    "#     print('from my func')\n",
    "\n",
    "# my_func = my_decorator(my_func)\n",
    "# print(my_func())"
   ]
  },
  {
   "cell_type": "code",
   "execution_count": 50,
   "metadata": {},
   "outputs": [],
   "source": [
    "# def mean(first, second, *rest):\n",
    "#     numbers = (first, second) + rest\n",
    "#     numbers = [int(number) for number in numbers]\n",
    "#     return sum(numbers) / len(numbers)\n",
    "\n",
    "# mean(1, 2, \"3\", \"8\")"
   ]
  },
  {
   "cell_type": "code",
   "execution_count": 62,
   "metadata": {},
   "outputs": [],
   "source": [
    "# def float_and_return(function):\n",
    "#     def wrapper(*args, **kwargs):\n",
    "#         print(\"Vladislav baby don't ... \")\n",
    "#     return wrapper\n",
    "\n",
    "\n",
    "# @float_and_return\n",
    "# def mean(first, second, *rest):\n",
    "#     numbers = (first, second) + rest\n",
    "#     return sum(numbers) / len(numbers)\n",
    "\n",
    "# mean(1, 2, 3, \"4\")"
   ]
  }
 ],
 "metadata": {
  "kernelspec": {
   "display_name": "Python 3",
   "language": "python",
   "name": "python3"
  },
  "language_info": {
   "codemirror_mode": {
    "name": "ipython",
    "version": 3
   },
   "file_extension": ".py",
   "mimetype": "text/x-python",
   "name": "python",
   "nbconvert_exporter": "python",
   "pygments_lexer": "ipython3",
   "version": "3.6.9"
  }
 },
 "nbformat": 4,
 "nbformat_minor": 4
}
