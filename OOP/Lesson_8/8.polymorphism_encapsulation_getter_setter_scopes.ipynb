{
 "cells": [
  {
   "cell_type": "markdown",
   "metadata": {},
   "source": [
    "# 8. private in inheritance, __ slots __, property class, property decorator, descriptor\n",
    "\n"
   ]
  },
  {
   "cell_type": "markdown",
   "metadata": {},
   "source": [
    "### 1. private in inheritance"
   ]
  },
  {
   "cell_type": "code",
   "execution_count": 3,
   "metadata": {},
   "outputs": [],
   "source": [
    "# # using __ for private\n",
    "# class Driver:\n",
    "#     __skills = 'can drive'\n",
    "    \n",
    "#     def show_driver_skills(self):\n",
    "#         print(self.__skills)\n",
    "    \n",
    "# class SpaceMan:\n",
    "#     __skills = 'can fly'\n",
    "\n",
    "#     def show_spaceman_skills(self):\n",
    "#         print(self.__skills)\n",
    "        \n",
    "# class Jarvis(SpaceMan, Driver):\n",
    "#     pass\n",
    "    \n",
    "# jarvis = Jarvis()\n",
    "# jarvis.show_driver_skills() "
   ]
  },
  {
   "cell_type": "markdown",
   "metadata": {},
   "source": [
    "### 2. __ slots __"
   ]
  },
  {
   "cell_type": "code",
   "execution_count": 13,
   "metadata": {},
   "outputs": [],
   "source": [
    "# __slots__ attribute\n",
    "\n",
    "# class SpaceMan:\n",
    "#     __slots__ = ['spaceship', 'space_suit']\n",
    "\n",
    "    \n",
    "# space_man = SpaceMan()\n",
    "# space_man.name = 'Jarvis' # error\n",
    "#space_man.spaceship \n",
    "# space_man.spaceship = 'StarShip'\n",
    "# print(space_man.spaceship)\n",
    "# print(space_man.__dict__)\n",
    "\n",
    "\n",
    "# class SpaceMan:\n",
    "#     __slots__ = ['spaceship', 'space_suit','__dict__'] \n",
    "\n",
    "# space_man = SpaceMan()\n",
    "# space_man.name = 'Jarvis'\n",
    "# print(space_man.__slots__)"
   ]
  },
  {
   "cell_type": "markdown",
   "metadata": {},
   "source": [
    "### 3. property class"
   ]
  },
  {
   "cell_type": "code",
   "execution_count": 5,
   "metadata": {},
   "outputs": [],
   "source": [
    "# class Thanos:\n",
    "#     def __init__(self, planet):\n",
    "#         self._planet =  planet\n",
    "    \n",
    "#     def x(self):\n",
    "#         print('get my planet')    \n",
    "#         return self._planet\n",
    "    \n",
    "#     def setPlanet(self, planet):\n",
    "#         print('conquer the planet')\n",
    "#         self._planet = planet\n",
    "    \n",
    "#     def delPlanet(self):\n",
    "#         print('destroy planet')\n",
    "#         del self._planet\n",
    "        \n",
    "#     planet = property(getPlanet, setPlanet, delPlanet, 'about planet attribute')\n",
    "    \n",
    "# methodneri mej karanq ognagorcenq _(taki gcik u mer attributi anun@ vor rekursia chlini)\n",
    "\n",
    "\n",
    "# supervillain = Thanos('Earth')\n",
    "# supervillain.planet = 'Mars'\n",
    "# print(supervillain.planet) # getPlanet\n",
    "# supervillain.planet = 'Black Hole' # setPlanet\n",
    "# del supervillain.planet # delPlanet\n",
    "# print(Thanos.planet.__doc__) # attribute documentation\n",
    "\n",
    "# jarangvuma vonc vor sovorakan attribute\n",
    "# class Ultron(Thanos):\n",
    "#     pass\n",
    "    \n",
    "# supervillain = Ultron('Earth')\n",
    "# print(supervillain.planet) # getPlanet"
   ]
  },
  {
   "cell_type": "markdown",
   "metadata": {},
   "source": [
    "### 4. property decorator"
   ]
  },
  {
   "cell_type": "code",
   "execution_count": 7,
   "metadata": {},
   "outputs": [],
   "source": [
    "# class Thanos:\n",
    "#     def __init__(self, planet):\n",
    "#         self._planet =  planet\n",
    "    \n",
    "#     @property\n",
    "#     def planet(self):\n",
    "#         print('get my planet')    \n",
    "#         return self._planet\n",
    "    \n",
    "#     @planet.setter\n",
    "#     def planet(self, planet):\n",
    "#         print('conquer the planet')\n",
    "#         self._planet = planet\n",
    "        \n",
    "#     @planet.deleter\n",
    "#     def planet(self):\n",
    "#         print('destroy planet')\n",
    "#         del self._planet\n",
    "    \n",
    "    \n",
    "    \n",
    "# supervillain = Ultron('Earth')\n",
    "# print(supervillain.planet) # getPlanet\n",
    "# supervillain = Thanos('Earth')\n",
    "# print(supervillain.planet)\n",
    "# supervillain.planet = 'Mars'\n",
    "# del supervillain.planet"
   ]
  }
 ],
 "metadata": {
  "kernelspec": {
   "display_name": "Python 3",
   "language": "python",
   "name": "python3"
  },
  "language_info": {
   "codemirror_mode": {
    "name": "ipython",
    "version": 3
   },
   "file_extension": ".py",
   "mimetype": "text/x-python",
   "name": "python",
   "nbconvert_exporter": "python",
   "pygments_lexer": "ipython3",
   "version": "3.6.9"
  }
 },
 "nbformat": 4,
 "nbformat_minor": 4
}
