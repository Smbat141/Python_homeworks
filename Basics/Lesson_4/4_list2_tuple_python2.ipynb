{
 "cells": [
  {
   "cell_type": "markdown",
   "metadata": {},
   "source": [
    "# 3. List part 2, Tuple, Python 2\n",
    "\n",
    "## Chapter 1\n",
    "### 1. Nested List\n",
    "### 2. Deep and Shallow copy"
   ]
  },
  {
   "cell_type": "code",
   "execution_count": 97,
   "metadata": {},
   "outputs": [],
   "source": [
    "#1.Nested List\n",
    "\n",
    "# numbers = [1, 2, 3]\n",
    "\n",
    "# numbers[3]\n",
    "\n",
    "# numbers[3] = 4\n",
    "\n",
    "# nested_list = [1, 2, 3, [\"10\", 11, 12]]\n",
    "# print(nested_list[3][0][1])\n",
    "\n",
    "# users_tests = [\n",
    "#     [\"Lilit\", \"Aren\", \"Janna\", \"Samvel (Sam)\", \"Gohar\", \"Armen\", \"Luiza\"],\n",
    "#     [[1, 9, 8, 8, 7, 9, 8], [2, 9, 8, 8, 7, 9, 8], [7, 9, 8, 8, 7, 9, 8]]\n",
    "# ]\n",
    "# print(users_tests[1][2])\n",
    "\n",
    "# 2. Deep and Shallow copy\n",
    "\n",
    "\n",
    "# importing copy module \n",
    "# import copy \n",
    "  \n",
    "# initializing list 1  \n",
    "# li1 = [1, 2, [3, 5], 4] \n",
    "\n",
    "# li1 = [1, 2, [3, 5], 4] \n",
    "# li1_copy = li1.copy()\n",
    "# li1_copy[2][0] = 1000\n",
    "\n",
    "# x = 1    0, [1, 3, 4]\n",
    "\n",
    "# print(li1)\n",
    "\n",
    "# print(li1_copy)\n",
    "\n",
    "\n",
    "# using copy for shallow copy\n",
    "\n",
    "# li1_shallow_copy = copy.copy(li1)\n",
    "\n",
    "# li1_shallow_copy[2][0] = 1000\n",
    "\n",
    "# print(li1)\n",
    "         \n",
    "# print(li1_shallow_copy)\n",
    "\n",
    "  \n",
    "# # using deepcopy for deepcopy\n",
    "\n",
    "# li1 = [1, 2, [3, 5], 4]\n",
    "\n",
    "# li1_deep_copy = copy.deepcopy(li1)\n",
    "\n",
    "# li1_deep_copy[2][0] = 1000\n",
    "\n",
    "# print(li1)\n",
    "         \n",
    "# print(li1_deep_copy)"
   ]
  },
  {
   "cell_type": "markdown",
   "metadata": {},
   "source": [
    "## Chapter 2\n",
    "### 1. List Methods Part 2"
   ]
  },
  {
   "cell_type": "code",
   "execution_count": 120,
   "metadata": {},
   "outputs": [],
   "source": [
    "# list_of_strings = ['1','2','3','4']\n",
    "# s = \", \"\n",
    "# s = s.join(list_of_strings)\n",
    "# print(type(s))\n",
    "\n",
    "# # split()\n",
    "# x = 'vazgen@ chgnac dproc vorovhetev karatina'.split(\" \", 2)\n",
    "# print(x)"
   ]
  },
  {
   "cell_type": "markdown",
   "metadata": {},
   "source": [
    "## Chapter 3\n",
    "### 1. Touple"
   ]
  },
  {
   "cell_type": "code",
   "execution_count": 150,
   "metadata": {},
   "outputs": [],
   "source": [
    "# 1. Tuple\n",
    "# x = tuple()\n",
    "# print(x)\n",
    "\n",
    "# x = (1, )\n",
    "# print(type(x))\n",
    "# x = (1, )\n",
    "# print(type(x))\n",
    "\n",
    "# thistuple = (1, 3, 7, 8, 7, 5, 4, 6, 8, 5)\n",
    "# thistuple[1] = 1000\n",
    "# x = thistuple.count(5)\n",
    "# print(x)\n",
    "\n",
    "# t1 = 1,\n",
    "# print(t1)\n",
    "\n",
    "# t2 = 1, 5,\n",
    "# print(t2)\n",
    "\n",
    "# t3 = 1, 5, 9\n",
    "# print(t3)\n",
    "\n",
    "# x = ('a','b', 5)\n",
    "# var1 , var2, var3 = x\n",
    "# print(var1, var2, var3)\n",
    "\n",
    "\n",
    "# import timeit \n",
    "        \n",
    "# x = timeit.timeit(stmt=\"[45,6,9,7,8,7,987,987,546]\", number=1000000)\n",
    "# y = timeit.timeit(stmt=\"(45,6,9,7,8,7,987,987,546)\", number=1000000)\n",
    "# print(\"list time \" ,x)\n",
    "# print(\"tuple time \", y)"
   ]
  },
  {
   "cell_type": "markdown",
   "metadata": {},
   "source": [
    "## Chapter 4\n",
    "### 1. Python2 VS Python3"
   ]
  },
  {
   "cell_type": "code",
   "execution_count": 149,
   "metadata": {},
   "outputs": [],
   "source": [
    "# Print in python2\n",
    "# print 'hello' # 2.x\n",
    "\n",
    "# print(\"hello\") # 3.x\n",
    "\n",
    "\n",
    "# print('hello', 'world', sep=\"\\n\", end=\".\") \n",
    "# print('hello', 'world', sep=\"\\n\", end=\".\") # 3.x\n",
    "\n",
    "\n",
    "\n",
    "# Python 2\n",
    "# 3 / 2 = 1\n",
    "# 3 // 2 = 1\n",
    "# 3 / 2.0 = 1.5\n",
    "# 3 // 2.0 = 1.0\n",
    "\n",
    "# Python 3\n",
    "# 3 / 2 = 1.5\n",
    "# 3 // 2 = 1\n",
    "# 3 / 2.0 = 1.5\n",
    "# 3 // 2.0 = 1.0\n",
    "\n",
    "# long int in python 2\n",
    "# x = 100L\n",
    "\n",
    "# input\n",
    "# 2.x -raw_input() # str\n",
    "# input() # int\n",
    "\n",
    "# 3.x-um menak input() u misht stringa veradarcnum\n",
    "# #raw_input('enter a number: ')\n",
    "# #x = input(\"enter a number\")\n",
    "# x = raw_input('hello')\n",
    "# print(type(x)) (edited)"
   ]
  }
 ],
 "metadata": {
  "kernelspec": {
   "display_name": "Python 3",
   "language": "python",
   "name": "python3"
  },
  "language_info": {
   "codemirror_mode": {
    "name": "ipython",
    "version": 3
   },
   "file_extension": ".py",
   "mimetype": "text/x-python",
   "name": "python",
   "nbconvert_exporter": "python",
   "pygments_lexer": "ipython3",
   "version": "3.6.9"
  }
 },
 "nbformat": 4,
 "nbformat_minor": 4
}
