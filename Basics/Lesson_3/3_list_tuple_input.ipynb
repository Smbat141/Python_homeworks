{
 "cells": [
  {
   "cell_type": "markdown",
   "metadata": {},
   "source": [
    "# 3. List & Tuple\n",
    "## Chapter 1\n",
    "### 1. List Introduction\n",
    "### 2. Sequence\n",
    "### 3. Mutable"
   ]
  },
  {
   "cell_type": "code",
   "execution_count": 92,
   "metadata": {},
   "outputs": [
    {
     "name": "stdout",
     "output_type": "stream",
     "text": [
      "[]\n"
     ]
    }
   ],
   "source": [
    "#1. List Introduction\n",
    "# import random\n",
    "\n",
    "\n",
    "# x = \"Lilit\"\n",
    "# y = \"Aren\"\n",
    "# z = \"Luiza\"\n",
    "# a = \"Janna\"\n",
    "# b = \"Samvel\" # (Samo)\n",
    "# c = \"Gohar\"\n",
    "# d = \"Armen\"\n",
    "# print(x, y, z, a, b, c, d)\n",
    "\n",
    "# x = list()\n",
    "# x = []\n",
    "# print(x)\n",
    "# pythonists = [\"Lilit\", \"Aren\", \"Janna\", \"Samvel (Samo)\", \"Gohar\", \"Armen\"]\n",
    "# ages = [60, 34, 62, 69, 63, 67, 61, \"some string\"]\n",
    "# print(pythonists)\n",
    "# print(ages)\n",
    "\n",
    "\n",
    "# 2. Mutable\n",
    "\n",
    "# x = [1, 2, 3]\n",
    "# y = x\n",
    "# x[0] = 100\n",
    "# print(y)\n",
    "\n",
    "# 3. Sequence\n",
    "\n",
    "# print(pythonists[0:])\n",
    "# print(pythonists[-1])\n",
    "# print(pythonists[:]) # copy\n",
    "# print(pythonists[::-1]) # reverse\n",
    "# print(pythonists[::1])\n",
    "\n",
    "# print(pythonists + ages) # polimorfizm Introduction\n",
    "# print(pythonists * 6)\n",
    "\n",
    "# 3 in [1, 2, 3]\n",
    "\n",
    "# print(random.choice(pythonists))"
   ]
  },
  {
   "cell_type": "markdown",
   "metadata": {},
   "source": [
    "## Chapter 2\n",
    "### 1. List methods\n",
    "### 2. List functions"
   ]
  },
  {
   "cell_type": "code",
   "execution_count": 87,
   "metadata": {},
   "outputs": [],
   "source": [
    "# 1. List methods\n",
    "\n",
    "# pythonists = [\"Lilit\", \"Aren\", \"Janna\", \"Samvel (Samo)\", \"Gohar\", \"Armen\"]\n",
    "# pythonists.append(\"Vardan\") # add item to end of list\n",
    "# pythonists.pop() # remove last item\n",
    "# pythonists.insert(1, 'Vardan') # add in index\n",
    "# pythonists.remove('Vardan')\n",
    "# pythonists.reverse()\n",
    "# pythonists.sort(reverse=True)\n",
    "# del pythonists[3:]\n",
    "# print(pythonists)\n",
    "\n",
    "# 2. List functions\n",
    "\n",
    "# x = [1, 2, 3, 4]\n",
    "# print(sum(x))\n",
    "# copy(x)\n",
    "# len(x)\n",
    "# sorted(x) "
   ]
  },
  {
   "cell_type": "markdown",
   "metadata": {},
   "source": [
    "## Chapter 3\n",
    "### 1. Touple"
   ]
  },
  {
   "cell_type": "code",
   "execution_count": 93,
   "metadata": {},
   "outputs": [],
   "source": [
    "# 1. Strings sequence\n",
    "\n",
    "# x = tuple([1,2])\n",
    "# x = (1, 2)\n",
    "\n",
    "# thistuple = (1, 3, 7, 8, 7, 5, 4, 6, 8, 5)\n",
    "# x = thistuple.count(5)\n",
    "# print(x)"
   ]
  }
 ],
 "metadata": {
  "kernelspec": {
   "display_name": "Python 3",
   "language": "python",
   "name": "python3"
  },
  "language_info": {
   "codemirror_mode": {
    "name": "ipython",
    "version": 3
   },
   "file_extension": ".py",
   "mimetype": "text/x-python",
   "name": "python",
   "nbconvert_exporter": "python",
   "pygments_lexer": "ipython3",
   "version": "3.6.9"
  }
 },
 "nbformat": 4,
 "nbformat_minor": 4
}
