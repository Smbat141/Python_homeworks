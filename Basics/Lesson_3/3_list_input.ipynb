{
 "cells": [
  {
   "cell_type": "markdown",
   "metadata": {},
   "source": [
    "# 3. Input, List\n",
    "## Chapter 1\n",
    "### 1. Help\n",
    "### 2. Input"
   ]
  },
  {
   "cell_type": "code",
   "execution_count": 9,
   "metadata": {},
   "outputs": [],
   "source": [
    "#1. Help\n",
    "\n",
    "# print(str.strip)\n",
    "# print(help(str.strip)\n",
    "\n",
    "# input()\n",
    "# name = input()\n",
    "# print(type(name))\n",
    "\n",
    "# print(\"write your name ara!! please)\")\n",
    "# x = input()\n",
    "# print(x)\n",
    "\n",
    "# x = input(\"Please write your age\")\n",
    "# print(int(x))\n",
    "\n",
    "# name = input(\"What's your name? \")\n",
    "# print(name + \"@ mer @ngerna\" + \"!\")\n"
   ]
  },
  {
   "cell_type": "markdown",
   "metadata": {},
   "source": [
    "## Chapter 2\n",
    "### 1. List Introduction\n",
    "### 2. Sequence\n",
    "### 3. Mutable"
   ]
  },
  {
   "cell_type": "code",
   "execution_count": 102,
   "metadata": {},
   "outputs": [],
   "source": [
    "#1. List Introduction\n",
    "# import random\n",
    "\n",
    "# x = \"Lilit\"\n",
    "# y = \"Aren\"\n",
    "# z = \"Luiza\"\n",
    "# a = \"Janna\"\n",
    "# b = \"Samvel\" # (Samo)\n",
    "# c = \"Gohar\"\n",
    "# d = \"Armen\"\n",
    "# print(x, y, z, a, b, c, d)\n",
    "\n",
    "\n",
    "# x = list()\n",
    "# x = []\n",
    "# print(x)\n",
    "# pythonists = [\"Lilit\", \"Aren\", \"Janna\", \"Samvel (Samo)\", \"Gohar\", \"Armen\", \"Luiza\"]\n",
    "# ages = [60, 34, 62, 69, 63, 67, 61, \"some string\"]\n",
    "# len(ages)\n",
    "# pythonists[3] = \"Vardan\"\n",
    "# print(pythonists)\n",
    "# print(ages)\n",
    "\n",
    "\n",
    "# 2. Mutable\n",
    "\n",
    "# x = [1, 2, 3]\n",
    "# y = x\n",
    "# x[0] = 100\n",
    "# print(y)\n",
    "\n",
    "# 3. Sequence\n",
    "\n",
    "# print(pythonists[0:])\n",
    "# print(pythonists[-1])\n",
    "# print(pythonists[:]) # copy\n",
    "# print(pythonists[::-1]) # reverse\n",
    "# print(pythonists[::1])\n",
    "\n",
    "# print(pythonists + ages) # polimorfizm Introduction\n",
    "# print(pythonists * 6)\n",
    "\n",
    "# 3 in [1, 2, 3]\n",
    "\n",
    "# print(random.choice(pythonists))"
   ]
  },
  {
   "cell_type": "markdown",
   "metadata": {},
   "source": [
    "## Chapter 3\n",
    "### 1. List methods\n",
    "### 2. List functions"
   ]
  },
  {
   "cell_type": "code",
   "execution_count": 106,
   "metadata": {},
   "outputs": [],
   "source": [
    "## 1. List methods\n",
    "\n",
    "# pythonists = [\"Lilit\", \"Aren\", \"Aren\", \"Janna\", \"Samvel (Samo)\", \"Gohar\", \"Armen\", \"Luiza\"]\n",
    "# x = pythonists[0:3]\n",
    "\n",
    "\n",
    "# x.append(\"Vardan\") # add item to end of list\n",
    "# name = pythonists.pop() # remove last item\n",
    "# print(pythonists)\n",
    "# print(x)\n",
    "\n",
    "# help(list.pop)\n",
    "# pythonists.insert(1, 'Vardan') # add in index\n",
    "# pythonists.remove('Aren')\n",
    "# pythonists.reverse()\n",
    "# pythonists.sort(reverse=True)\n",
    "# print(pythonists)\n",
    "\n",
    "# 2. List functions\n",
    "\n",
    "# x = [1, 2, 3, 4]\n",
    "# print(sum(x))\n",
    "# copy(x)\n",
    "# len(x)\n",
    "# x = sorted(x, reverse=True)\n",
    "# print(x)\n",
    "# list(\"abcd\")"
   ]
  }
 ],
 "metadata": {
  "kernelspec": {
   "display_name": "Python 3",
   "language": "python",
   "name": "python3"
  },
  "language_info": {
   "codemirror_mode": {
    "name": "ipython",
    "version": 3
   },
   "file_extension": ".py",
   "mimetype": "text/x-python",
   "name": "python",
   "nbconvert_exporter": "python",
   "pygments_lexer": "ipython3",
   "version": "3.6.9"
  }
 },
 "nbformat": 4,
 "nbformat_minor": 4
}
