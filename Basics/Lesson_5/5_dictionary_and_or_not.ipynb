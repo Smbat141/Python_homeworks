{
 "cells": [
  {
   "cell_type": "markdown",
   "metadata": {},
   "source": [
    "# 5. Dictionary, and, or, not\n",
    "\n",
    "## Chapter 1\n",
    "### 1. Dictionary introduction\n",
    "### 2. Dictionary is mutable"
   ]
  },
  {
   "cell_type": "code",
   "execution_count": 93,
   "metadata": {},
   "outputs": [
    {
     "name": "stdout",
     "output_type": "stream",
     "text": [
      "Lilit\n"
     ]
    }
   ],
   "source": [
    "#1. Dictionary introduction\n",
    "\n",
    "\n",
    "# Example with contacts\n",
    "\n",
    "# contacts = [[\"Vazgen\", \"098-46-56-76\"], [\"Gago\", \"099-35-23-23\"]]\n",
    "# \"Gago\" in contacts[0]\n",
    "# \"Gago\" in contacts[1]\n",
    "# print(contacts[1][0], contacts[1][1], sep=\": \")\n",
    "\n",
    "# x = dict()\n",
    "# print(x)\n",
    "# y = {}\n",
    "# print(y)\n",
    "\n",
    "# contacts = {\"Vazgen\": \"098-46-56-76\"}\n",
    "# print(contacts)\n",
    "# print(contacts['Vazgen'])\n",
    "\n",
    "# x = dict(name = \"Jarvis\", age = 36, country = \"USA\")\n",
    "\n",
    "# contacts[\"Gago\"] = \"099-35-23-23\" \n",
    "# contacts[\"Gago\"] = \"099-11-11-11\" # key unique\n",
    "# contacts[\"space x\"] = \"fly\"\n",
    "\n",
    "# print(contacts[\"Vardan\"])\n",
    "\n",
    "# print(contacts.get(\"Vardan\", \"chka\"))\n",
    "\n",
    "# print(contacts) # the dictionary has no indexes\n",
    "\n",
    "\n",
    "# 2. Dictionary is mutable\n",
    "\n",
    "\n",
    "# x = {\"name\" : \"jorj\"}\n",
    "# y = x\n",
    "# x[\"name\"] = 'valod'\n",
    "\n",
    "# print(y)\n",
    "\n",
    "# users_tests = [\n",
    "#     [\"Lilit\", \"Aren\", \"Janna\", \"Samvel (Sam)\", \"Gohar\", \"Armen\", \"Luiza\"],\n",
    "#     [[1, 2, 3, 4, 5, 6, 7], [8, 9, 10, 11, 12, 12, 14], [15, 16, 17, 18, 19, 20, 21]]\n",
    "# ]\n",
    "\n",
    "# users_tests = {\n",
    "#     \"Lilit\": {\"test_1\": 1, \"test_2\": 8, \"test_3\": 15},\n",
    "#     \"Aren\": {\"test_1\": 2, \"test_2\": 9, \"test_3\": 16}\n",
    "# }\n",
    "\n",
    "# print(users_tests[\"Lilit\"])\n",
    "# print(users_tests[\"Lilit\"]['test_1'])\n",
    "\n",
    "# users_tests[\"Janna\"][\"test_1\"] = 3 # error\n",
    "\n",
    "# users_tests[\"Janna\"] = {\"test_1\": 3} # or\n",
    "# users_tests[\"Janna\"] = {}\n",
    "# users_tests[\"Janna\"][\"test_1\"] = 3\n",
    "# print(users_tests)"
   ]
  },
  {
   "cell_type": "markdown",
   "metadata": {},
   "source": [
    "## Chapter 2\n",
    "### 1. Dictionary methods"
   ]
  },
  {
   "cell_type": "code",
   "execution_count": 87,
   "metadata": {},
   "outputs": [],
   "source": [
    "# users = {\"firstName\": \"Vazgen\", \"lastName\": \"Gevorgyan\", \"phoneNumber\": \"0000\"}\n",
    "\n",
    "# users.clear() # remove all dict\n",
    "\n",
    "# print(users.get(\"phoneNumber\"))\n",
    "\n",
    "# users.pop(\"firstName\") # remove by key and return value\n",
    "\n",
    "# print(users.keys()) # return dict keys in list\n",
    "\n",
    "# print(users.values()) # return dict values in list\n",
    "\n",
    "# print(users.items()) # return key, value in list with tuple\n",
    "\n",
    "# dict1 = {1: 1, 2:4}\n",
    "# dict2 = {3: 9, 4: 16}\n",
    "# dict1.update(dict2) # add dict1 to dict2\n",
    "# print(dict1)\n",
    "\n",
    "# print(users)"
   ]
  },
  {
   "cell_type": "markdown",
   "metadata": {},
   "source": [
    "## Chapter 3\n",
    "### 1. And or not"
   ]
  },
  {
   "cell_type": "code",
   "execution_count": 86,
   "metadata": {},
   "outputs": [],
   "source": [
    "# 1. And or not\n",
    "\n",
    "# 5 < 10 or 100 < 70 True or False\n",
    "# 5 < 10 and 100 < 70 True and False\n",
    "# 5 < 10 or not 100 < 70 True or not False\n",
    "\n",
    "# users = {\"firstName\": \"Vazgen\", \"lastName\": \"Gevorgyan\"}\n",
    "# \"phoneNumber\" not in users\n",
    "# \"firstName\" not in users\n",
    "# \"firstName\" in users or \"phoneNumber\" in users"
   ]
  }
 ],
 "metadata": {
  "kernelspec": {
   "display_name": "Python 3",
   "language": "python",
   "name": "python3"
  },
  "language_info": {
   "codemirror_mode": {
    "name": "ipython",
    "version": 3
   },
   "file_extension": ".py",
   "mimetype": "text/x-python",
   "name": "python",
   "nbconvert_exporter": "python",
   "pygments_lexer": "ipython3",
   "version": "3.6.9"
  }
 },
 "nbformat": 4,
 "nbformat_minor": 4
}
