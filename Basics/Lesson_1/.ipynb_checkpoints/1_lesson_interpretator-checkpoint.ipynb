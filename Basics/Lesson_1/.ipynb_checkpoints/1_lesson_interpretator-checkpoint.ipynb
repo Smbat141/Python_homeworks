{
 "cells": [
  {
   "cell_type": "markdown",
   "metadata": {},
   "source": [
    "## Chapter 1\n",
    "### 1. Terminal\n",
    "### 2. Pythoni interpretotor\n",
    "### 3. Variables\n",
    "### 4. Strong dynamic type checking"
   ]
  },
  {
   "cell_type": "code",
   "execution_count": 1,
   "metadata": {},
   "outputs": [
    {
     "data": {
      "text/plain": [
       "3"
      ]
     },
     "execution_count": 1,
     "metadata": {},
     "output_type": "execute_result"
    }
   ],
   "source": [
    "# x = 'text'\n",
    "y = 1\n",
    "# y = y + 2\n",
    "y += 2 \n",
    "y\n",
    "# x + y"
   ]
  },
  {
   "cell_type": "markdown",
   "metadata": {},
   "source": [
    "## Chapter 2\n",
    "### 1. Files\n",
    "### 2. Byte code - Python Virtual Machine\n",
    "### 3. Dynamic vs static typing\n",
    "### 4. Variable names"
   ]
  },
  {
   "cell_type": "code",
   "execution_count": 2,
   "metadata": {},
   "outputs": [
    {
     "name": "stdout",
     "output_type": "stream",
     "text": [
      "Vardan\n",
      "Vardanyan\n"
     ]
    }
   ],
   "source": [
    "first_name = \"Vardan\" # snake case\n",
    "lastName = \"Vardanyan\" # camel case\n",
    "print(first_name)\n",
    "print(lastName)\n"
   ]
  },
  {
   "cell_type": "markdown",
   "metadata": {},
   "source": [
    "## Chapter 3\n",
    "### 1. Function Print\n",
    "### 2. Comments"
   ]
  },
  {
   "cell_type": "code",
   "execution_count": 3,
   "metadata": {},
   "outputs": [
    {
     "name": "stdout",
     "output_type": "stream",
     "text": [
      "anun = Vardan, azganun = Vardanyan\n"
     ]
    }
   ],
   "source": [
    "first_name = \"Vardan\"\n",
    "lastName = \"Vardanyan\"\n",
    "# print(first_name, lastName) \n",
    "sum = \"anun = \" + first_name + \", \" + \"azganun = \" + lastName\n",
    "print(sum)\n"
   ]
  },
  {
   "cell_type": "markdown",
   "metadata": {},
   "source": [
    "## Chapter 4\n",
    "### 1. Operators\n",
    "### 2. Type bool\n",
    "### 3. Check type"
   ]
  },
  {
   "cell_type": "code",
   "execution_count": 4,
   "metadata": {},
   "outputs": [
    {
     "name": "stdout",
     "output_type": "stream",
     "text": [
      "<class 'bool'>\n"
     ]
    }
   ],
   "source": [
    "x = 10\n",
    "y = 3\n",
    "# z = x + y \n",
    "# z = x - y \n",
    "# z = x / y # 3.33...\n",
    "# z = x * y\n",
    "# z = x // y # 3\n",
    "# z = x ** y # 1000\n",
    "# z = -x \n",
    "# z = +z\n",
    "# print(z)\n",
    "z = x < y\n",
    "\n",
    "# print(x < y)\n",
    "# print(x > y)\n",
    "# print(type(z))\n",
    "\n",
    "print(type(z))"
   ]
  }
 ],
 "metadata": {
  "kernelspec": {
   "display_name": "Python 3 (ipykernel)",
   "language": "python",
   "name": "python3"
  },
  "language_info": {
   "codemirror_mode": {
    "name": "ipython",
    "version": 3
   },
   "file_extension": ".py",
   "mimetype": "text/x-python",
   "name": "python",
   "nbconvert_exporter": "python",
   "pygments_lexer": "ipython3",
   "version": "3.8.10"
  }
 },
 "nbformat": 4,
 "nbformat_minor": 4
}
