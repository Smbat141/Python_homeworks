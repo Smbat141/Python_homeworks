{
 "cells": [
  {
   "cell_type": "markdown",
   "metadata": {},
   "source": [
    "# 6. Set, File\n",
    "\n",
    "## Chapter 1\n",
    "### 1. Set introduction\n",
    "### 2. Set methods\n",
    "### 3. frozenset"
   ]
  },
  {
   "cell_type": "code",
   "execution_count": 20,
   "metadata": {},
   "outputs": [],
   "source": [
    "#1. Set introduction\n",
    "\n",
    "# x = set()\n",
    "# print(x)\n",
    "# x = {1, 2, 3, 4, 5}\n",
    "# y = {4, 5, 6, 7, 8}\n",
    "# y = {[1, 2, 3, 4, 5]}\n",
    "# y = set({\"key1\": \"value1\", \"key2\": \"value2\"})\n",
    "# print(y)\n",
    "\n",
    "# y.add(6) # add item in set\n",
    "# print(y)\n",
    "\n",
    "# y.remove(6) # remove item from set by value\n",
    "# print(y)\n",
    "\n",
    "# y.union(x) \n",
    "\n",
    "# y.difference(x) # exist in first and upsent in second\n",
    "\n",
    "# y.intersection(x)\n",
    "\n",
    "# y.symmetric_difference() # show all differences\n",
    "\n",
    "# frozenset\n",
    "\n",
    "# x = frozenset(\"123\")\n",
    "# print(x)\n",
    "# x.add(3)\n",
    "# x.remove(3)"
   ]
  },
  {
   "cell_type": "markdown",
   "metadata": {},
   "source": [
    "![title](set.png)"
   ]
  },
  {
   "cell_type": "markdown",
   "metadata": {},
   "source": [
    "## Chapter 2\n",
    "### 1. Files introduction (open)\n",
    "### 2. File read methods\n",
    "### 3. File write methods"
   ]
  },
  {
   "cell_type": "code",
   "execution_count": 134,
   "metadata": {},
   "outputs": [
    {
     "name": "stdout",
     "output_type": "stream",
     "text": [
      "\n"
     ]
    }
   ],
   "source": [
    "# 1. Files introduction (open)\n",
    "\n",
    "# f = open(\"some_file.txt\") # default r\n",
    "# print(f.read())\n",
    "# f.close()\n",
    "# file_path = \"some_file.txt\"\n",
    "# f = open(file_path, \"r\")\n",
    "# print(f.read())\n",
    "# f.close()\n",
    "\n",
    "# 'r' # read: for read file\n",
    "# \"a\" # append: in end of file if file not exist create new\n",
    "# \"w\" # write: open file or create file and\n",
    "# \"x\" # create new file, return error if exist\n",
    "# \"r+\" read and append\n",
    "\n",
    "# 2. File read methods\n",
    "\n",
    "# print(f.read()) # return all file as string\n",
    "# print(f.readlines()) # return all file as list\n",
    "# print(f.readline()) # return one line\n",
    "\n",
    "# 3. File write methods\n",
    "\n",
    "# file_path = \"new_file.txt\"\n",
    "# f = open(file_path, \"w\")\n",
    "# f.write(\"new line\\nnew second line\") # add new line with string\n",
    "# f.writelines([\"first line\", \"second line\"])\n",
    "# f.close()"
   ]
  },
  {
   "cell_type": "markdown",
   "metadata": {},
   "source": [
    "## Chapter 3\n",
    "### 1. With context manager\n",
    "### 2. Code block"
   ]
  },
  {
   "cell_type": "code",
   "execution_count": 141,
   "metadata": {},
   "outputs": [],
   "source": [
    "# file_path = \"some_file.txt\"\n",
    "# with open(file_path) as file: # Use file to refer to the file object\n",
    "#     print(file.read())\n",
    "    \n",
    "# print(file.read()) # error beacause file already closed"
   ]
  }
 ],
 "metadata": {
  "kernelspec": {
   "display_name": "Python 3",
   "language": "python",
   "name": "python3"
  },
  "language_info": {
   "codemirror_mode": {
    "name": "ipython",
    "version": 3
   },
   "file_extension": ".py",
   "mimetype": "text/x-python",
   "name": "python",
   "nbconvert_exporter": "python",
   "pygments_lexer": "ipython3",
   "version": "3.6.9"
  }
 },
 "nbformat": 4,
 "nbformat_minor": 4
}
