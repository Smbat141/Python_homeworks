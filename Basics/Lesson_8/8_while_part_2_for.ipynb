{
 "cells": [
  {
   "cell_type": "markdown",
   "metadata": {},
   "source": [
    "# 7. while part 2, for\n",
    "\n",
    "## Chapter 1\n",
    "### 1. While with list\n",
    "### 2. While with dict"
   ]
  },
  {
   "cell_type": "code",
   "execution_count": 38,
   "metadata": {},
   "outputs": [],
   "source": [
    "# 1. While with list\n",
    "\n",
    "# users = [\"Gohar\", \"Aren\", \"Lilit\", \"Armen\", \"Luiza\", \"Samvel\", \"Janna\"]\n",
    "# x = 0\n",
    "# while x < 6:\n",
    "#     x += 1 # ask question to students\n",
    "#     print(users[x])\n",
    "    \n",
    "# while users:\n",
    "#     print(users)\n",
    "#     users.pop()\n",
    "\n",
    "# 2. While with dict\n",
    "\n",
    "# new_users = []\n",
    "# while users:\n",
    "#     new_users.append(users.pop())\n",
    "#     print(new_users)\n",
    "\n",
    "# users = {\"firstname\": \"Gohar\", \"age\": \"17\", \"mobile\": \"sensrov\", \"profession\": \"Python Developer\"}\n",
    "# user_keys = list(users.keys())\n",
    "# while user_keys:\n",
    "#     key = user_keys.pop()\n",
    "#     print(key, \"=\", users[key])\n",
    "\n",
    "# users = {\"firstname\": \"Smbat\", \"age\": \"23\", \"mobile\": \"terev Nokia\", \"profession\": \"jarvis\"}\n",
    "\n",
    "# user_items = list(users.items())\n",
    "# x = len(user_items)\n",
    "# while x:\n",
    "#     x -= 1\n",
    "#     print(\"key = \", user_items[x][0], end=\" \")\n",
    "#     print(\"value = \" ,user_items[x][1])"
   ]
  },
  {
   "cell_type": "markdown",
   "metadata": {},
   "source": [
    "## Chapter 2\n",
    "### 1. for, isinstance\n",
    "### 2. range"
   ]
  },
  {
   "cell_type": "code",
   "execution_count": 50,
   "metadata": {},
   "outputs": [],
   "source": [
    "# 1. for, isinstance\n",
    "# users = [\"Gohar\", \"Aren\", \"Lilit\", \"Armen\", \"Luiza\", \"Samvel\", \"Janna\"]\n",
    "\n",
    "# for user in users:\n",
    "#     print(user)\n",
    "\n",
    "# users = [\"Gohar\", \"Aren\", \"Lilit\", \"Armen\", \"Luiza\", \"Samvel\", \"Janna\", [\"Hovhannes\", \"Smbat\"]]\n",
    "\n",
    "# for user in users:\n",
    "#     if isinstance(user, list):\n",
    "#         for tutor in user:\n",
    "#             print(\"tutor\", tutor)\n",
    "#     else:       \n",
    "#         print(\"user\", user)\n",
    "\n",
    "# dict\n",
    "        \n",
    "# users = {\"firstname\": \"Gohar\", \"age\": \"17\", \"mobile\": \"sensrov\", \"profession\": \"Python Developer\"}\n",
    "\n",
    "# for user in users:\n",
    "#     print(user) # ask question to students\n",
    "\n",
    "# for key, value in users.items():\n",
    "#     print(\"key = \", key)\n",
    "#     print(\"value = \", value)\n",
    "\n",
    "# 2. range\n",
    "\n",
    "# for x in range(10):\n",
    "#     print(x)\n",
    "\n",
    "# for x in range(10,100):\n",
    "#     print(x)\n",
    "    \n",
    "# for x in range(10,100,5):\n",
    "#     print(x)\n",
    "    \n",
    "# x = range(0, 20)\n",
    "# print(type(x))\n",
    "# print(list(x))"
   ]
  },
  {
   "cell_type": "markdown",
   "metadata": {},
   "source": [
    "## Chapter 3\n",
    "### 1. Short for"
   ]
  },
  {
   "cell_type": "code",
   "execution_count": 59,
   "metadata": {},
   "outputs": [],
   "source": [
    "# l1 = [1,2,3,4]\n",
    "# l2 = [number for number in l1]\n",
    "# print(l2)\n",
    "\n",
    "# l1 = [1,2,3,4]\n",
    "# l2 = [number * 2 for number in l1]\n",
    "# print(l2)\n",
    "\n",
    "# l1 = [1,2,3,4]        \n",
    "# l2 = [number * 2 for number in l1 if number > 2]\n",
    "# print(l2)\n",
    "\n",
    "# users = (\"Gohar\", \"Aren\", \"Lilit\", \"Armen\", \"Luiza\", \"Samvel\", \"Janna\")\n",
    "# new_users = [\"my name is \" + user for user in users ]\n",
    "# print(new_users)"
   ]
  }
 ],
 "metadata": {
  "kernelspec": {
   "display_name": "Python 3",
   "language": "python",
   "name": "python3"
  },
  "language_info": {
   "codemirror_mode": {
    "name": "ipython",
    "version": 3
   },
   "file_extension": ".py",
   "mimetype": "text/x-python",
   "name": "python",
   "nbconvert_exporter": "python",
   "pygments_lexer": "ipython3",
   "version": "3.6.9"
  }
 },
 "nbformat": 4,
 "nbformat_minor": 4
}
