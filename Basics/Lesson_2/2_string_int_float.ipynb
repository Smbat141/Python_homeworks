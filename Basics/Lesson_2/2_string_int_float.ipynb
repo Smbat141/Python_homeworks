{
 "cells": [
  {
   "cell_type": "markdown",
   "metadata": {},
   "source": [
    "# 2.\n",
    "## Chapter 1\n",
    "### 1. Variables part 2\n",
    "### 2. Reference (link)\n"
   ]
  },
  {
   "cell_type": "code",
   "execution_count": 55,
   "metadata": {},
   "outputs": [],
   "source": [
    "#1. Variables part 2\n",
    "\n",
    "# reserved names (True, False, if, else ...etc)\n",
    "# True = 7\n",
    "# print(True)\n",
    "\n",
    "# variable names cannot start with numbers\n",
    "# 1_new_var =\"some string\"\n",
    "\n",
    "# how assignment works\n",
    "# x, y = \"eggs\", \"spam\"\n",
    "\n",
    "# 2. Reference (link)\n",
    "# x = 1\n",
    "# y = x\n",
    "# x = 7\n",
    "# print(y)"
   ]
  },
  {
   "cell_type": "markdown",
   "metadata": {},
   "source": [
    "## Chapter 2\n",
    "### 1. Integer\n",
    "### 2. Float"
   ]
  },
  {
   "cell_type": "code",
   "execution_count": 30,
   "metadata": {},
   "outputs": [],
   "source": [
    "# 1. Integer\n",
    "\n",
    "# x = int()\n",
    "# print(x)\n",
    "\n",
    "# x = \"7\"\n",
    "# int(x)\n",
    "# print(type(x))\n",
    "# x = int(x)\n",
    "# print(type(x))\n",
    "\n",
    "# 2. Float\n",
    "# int to float\n",
    "# print(float(10))\n",
    "\n",
    "# float\n",
    "# print(float(11.22))\n",
    "\n",
    "# string to float\n",
    "# print(float(\"-13.33\"))\n",
    "\n",
    "# white spaces ignored\n",
    "# print(float(\"     -24.45\\n\"))\n",
    "\n",
    "# error when we put string\n",
    "# print(float(\"abc\"))\n",
    "\n",
    "# return float after devide\n",
    "# print(10.2 / 2)\n",
    "\n",
    "# return float after devide\n",
    "# print(10 / 2.0)\n",
    "\n",
    "# round(5.655, 2)"
   ]
  },
  {
   "cell_type": "markdown",
   "metadata": {},
   "source": [
    "## Chapter 3\n",
    "### 1. String sequence\n",
    "### 2. String format\n",
    "### 3. String Methods"
   ]
  },
  {
   "cell_type": "code",
   "execution_count": 61,
   "metadata": {},
   "outputs": [],
   "source": [
    "# 1. Strings sequence\n",
    "\n",
    "# x = asd # error\n",
    "\n",
    "# some_text = \"Hello world\\nHow are you?\" # /n\n",
    "# some_text\n",
    "# print(some_text)\n",
    "\n",
    "# sequence\n",
    "# some_text[0:7]\n",
    "# print(some_text)\n",
    "\n",
    "# find sequence length\n",
    "# len(some_text)\n",
    "\n",
    "# 2. String format\n",
    "\n",
    "# name = \"Vardan\" \n",
    "# age = 27\n",
    "# print(\"%s %d tarekana\" % (name, age) )\n",
    "# print(\"Hello, {0}. youe are {1}, {1}\".format(name, age))\n",
    "# print(f\"Hello, {name}. youe are {age}, {age}, {age}\") #available after python 3.6\n",
    "\n",
    "# 3. String Methods\n",
    "# x = str(55)\n",
    "# print(x)\n",
    "# some_text = \"Hello World\"\n",
    "\n",
    "# print(some_text.lower())\n",
    "# print(some_text.upper())\n",
    "\n",
    "# some_text = \"replaced_string\"\n",
    "# print(some_text)\n",
    "# some_text = some_text.replace('replaced_string','new_string', 1)\n",
    "# print(some_text)\n",
    "\n",
    "\n",
    "# finded_string = some_text.find('p') # return dinded index or -1\n",
    "# print(finded_string)"
   ]
  }
 ],
 "metadata": {
  "kernelspec": {
   "display_name": "Python 3",
   "language": "python",
   "name": "python3"
  },
  "language_info": {
   "codemirror_mode": {
    "name": "ipython",
    "version": 3
   },
   "file_extension": ".py",
   "mimetype": "text/x-python",
   "name": "python",
   "nbconvert_exporter": "python",
   "pygments_lexer": "ipython3",
   "version": "3.6.9"
  }
 },
 "nbformat": 4,
 "nbformat_minor": 4
}
