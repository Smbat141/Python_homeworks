{
 "cells": [
  {
   "cell_type": "markdown",
   "metadata": {},
   "source": [
    "# 12. modules\n",
    "\n",
    "## Chapter 1\n",
    "### 1. import\n",
    "### 2. from\n",
    "### 3. as\n",
    "### 4. dir"
   ]
  },
  {
   "cell_type": "markdown",
   "metadata": {
    "scrolled": true
   },
   "source": [
    "![title](namespaces.png)\n"
   ]
  },
  {
   "cell_type": "code",
   "execution_count": 3,
   "metadata": {},
   "outputs": [],
   "source": [
    "# 1. import\n",
    "\n",
    "# import math\n",
    "\n",
    "# print(math.factorial(5))\n",
    "# print(math.floor(3.9))\n",
    "# print(math.ceil(3.1))\n",
    "\n",
    "# import copy\n",
    "\n",
    "# users = [\"Lilit\", \"Aren\", \"Janna\", \"Samvel\", \"Gohar\", \"Armen\", \"Luiza\"]\n",
    "# copy_user = copy.deepcopy(users)\n",
    "# print(copy_user)\n",
    "\n",
    "\n",
    "# import random\n",
    "# print(random.choice(users))\n",
    "# print(random.randint(10, 100))\n",
    "\n",
    "# dir(math) # return module's attributes\n",
    "\n",
    "\n",
    "# import math\n",
    "# import copy\n",
    "# import random\n",
    "\n",
    "\n",
    "# print(math.factorial(5))\n",
    "# print(math.floor(3.9))\n",
    "# print(math.ceil(3.1))\n",
    "\n",
    "# users = [\"Lilit\", \"Aren\", \"Janna\", \"Samvel\", \"Gohar\", \"Armen\", \"Luiza\"]\n",
    "# copy_user = copy.deepcopy(users)\n",
    "# print(copy_user)\n",
    "\n",
    "# print(random.choice(users))\n",
    "# print(random.randint(10, 100))\n",
    "\n",
    "\n",
    "# 2. from\n",
    "\n",
    "# import copy.deepcopy # error\n",
    "# from copy import deepcopy\n",
    "\n",
    "# users = [\"Lilit\", \"Aren\", \"Janna\", \"Samvel\", \"Gohar\", \"Armen\", \"Luiza\"]\n",
    "# copy_users = deepcopy(users)\n",
    "# print(copy_users)\n",
    "\n",
    "\n",
    "# 3. as\n",
    "\n",
    "# import math as matьmatьika\n",
    "\n",
    "# print(matьmatьika.factorial(5))\n",
    "# print(matьmatьika.floor(3.9))\n",
    "# print(matьmatьika.ceil(3.1))\n",
    "\n",
    "# from copy import deepcopy as deepcopylist\n",
    "\n",
    "# users = [\"Lilit\", \"Aren\", \"Janna\", \"Samvel\", \"Gohar\", \"Armen\", \"Luiza\"]\n",
    "# copy_users = deepcopylist(users)\n",
    "# print(copy_users)\n",
    "\n",
    "# from math import *\n",
    "\n",
    "\n",
    "# print(math.factorial(5)) # error because module imported with *\n",
    "# print(factorial(5))\n",
    "# print(floor(3.9))\n",
    "# print(ceil(3.1))"
   ]
  },
  {
   "cell_type": "markdown",
   "metadata": {
    "scrolled": true
   },
   "source": [
    "### Chapter 2\n",
    "### 1. create our module\n",
    "### 2. create our package"
   ]
  }
 ],
 "metadata": {
  "kernelspec": {
   "display_name": "Python 3",
   "language": "python",
   "name": "python3"
  },
  "language_info": {
   "codemirror_mode": {
    "name": "ipython",
    "version": 3
   },
   "file_extension": ".py",
   "mimetype": "text/x-python",
   "name": "python",
   "nbconvert_exporter": "python",
   "pygments_lexer": "ipython3",
   "version": "3.6.9"
  }
 },
 "nbformat": 4,
 "nbformat_minor": 4
}
