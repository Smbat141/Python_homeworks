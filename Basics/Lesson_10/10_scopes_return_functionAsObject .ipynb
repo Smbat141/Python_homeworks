{
 "cells": [
  {
   "cell_type": "markdown",
   "metadata": {},
   "source": [
    "# 10. scopes, return, function as object\n",
    "\n",
    "## Chapter 1\n",
    "### 1. Scopes"
   ]
  },
  {
   "cell_type": "code",
   "execution_count": 19,
   "metadata": {},
   "outputs": [],
   "source": [
    "# 1. Scopes\n",
    "\n",
    "# custom_sum = 0\n",
    "# number = 10\n",
    "# for i in range(number):\n",
    "#     custom_sum += i\n",
    "# print(custom_sum)\n",
    "\n",
    "# custom_sum = 0 \n",
    "# def get_sum():\n",
    "#     number = 10\n",
    "#     for i in range(number):  # ask question to students\n",
    "#         custom_sum += i\n",
    "#     print(custom_sum)\n",
    "    \n",
    "# get_sum()\n",
    "\n",
    "# custom_sum = 0 \n",
    "# def get_sum():\n",
    "#     custom_sum = 100000\n",
    "#     print(custom_sum)\n",
    "    \n",
    "# get_sum()\n",
    "# print(custom_sum)\n",
    "\n",
    "# custom_sum = 0\n",
    "# def get_sum():\n",
    "#     global custom_sum\n",
    "#     number = 10\n",
    "#     for i in range(number):\n",
    "#         custom_sum += i\n",
    "#     print(custom_sum)\n",
    "    \n",
    "# get_sum()\n",
    "\n",
    "\n",
    "# def get_sum():\n",
    "#     number = 10\n",
    "#     print(number)\n",
    "    \n",
    "# get_sum()\n",
    "# print(number)"
   ]
  },
  {
   "cell_type": "markdown",
   "metadata": {},
   "source": [
    "## Chapter 2\n",
    "### 1. Return"
   ]
  },
  {
   "cell_type": "code",
   "execution_count": 42,
   "metadata": {},
   "outputs": [],
   "source": [
    "# 2. Return\n",
    "\n",
    "# def f1():\n",
    "#     print(\"hello Vardan\")\n",
    "# f1()\n",
    "\n",
    "# def reverse_list(some_list):\n",
    "#     for i in range(len(some_list)//2):\n",
    "#         some_list[i], some_list[-i - 1] = some_list[-i - 1], some_list[i]\n",
    "#     print(some_list)\n",
    "\n",
    "# numbers = [1, 2, 3, 4, 5]\n",
    "# reverse_list(numbers)\n",
    "# print(numbers)\n",
    "\n",
    "# def f1():\n",
    "#     return \"hello Vardan\"\n",
    "\n",
    "# some_text = f1()\n",
    "# print(some_text)\n",
    "\n",
    "\n",
    "# def reverse_list(some_list):\n",
    "#     new_list = some_list.copy()\n",
    "#     for i in range(len(new_list)//2):\n",
    "#         new_list[i], new_list[-i - 1] = new_list[-i - 1], new_list[i]\n",
    "#     return new_list\n",
    "\n",
    "# asc_numbers = [1, 2, 3, 4, 5]\n",
    "# desc_numbers = reverse_list(asc_numbers)\n",
    "# print(asc_numbers)\n",
    "# print(desc_numbers)\n",
    "\n",
    "# def f1(some_text, count):\n",
    "#     some_text *= count\n",
    "#     return some_text or None\n",
    "\n",
    "# print(\"returned value:\", f1(\"hello world \", 4))\n",
    "\n",
    "# def f1(number): # speak about flag\n",
    "#     number_square = number**2\n",
    "#     number_cube = number**3\n",
    "#     return number_square, number_cube\n",
    "\n",
    "# square, cube = f1(2)\n",
    "# print(square, cube)\n",
    "\n",
    "\n",
    "# def f1(number): # speak about flag\n",
    "#     '''\n",
    "#     this method return number square and cube\n",
    "#     '''\n",
    "#     number_square = number**2\n",
    "#     number_cube = number**3\n",
    "#     return number_square, number_cube\n",
    "\n",
    "# square, cube = f1(2)\n",
    "# print(square, cube)\n",
    "# help(f1)"
   ]
  },
  {
   "cell_type": "markdown",
   "metadata": {},
   "source": [
    "## Chapter 3\n",
    "### 1. functon as first class object"
   ]
  },
  {
   "cell_type": "code",
   "execution_count": 61,
   "metadata": {},
   "outputs": [
    {
     "name": "stdout",
     "output_type": "stream",
     "text": [
      "custom\n"
     ]
    }
   ],
   "source": [
    "# 1. functon as first class object\n",
    "# 2. lambda functions\n"
    "\n",
    "# def dai_pyatь():\n",
    "#     return 5\n",
    "\n",
    "# def sum_pyatь():\n",
    "#     print(dai_pyatь() * 2)\n",
    "\n",
    "# sum_pyatь()\n",
    "\n",
    "# def dai_pyatь():\n",
    "#     return 5\n",
    "\n",
    "# x = dai_pyatь\n",
    "# # x()\n",
    "\n",
    "# def sum_pyatь(get_sum):\n",
    "#     print(get_sum() * 2)\n",
    "    \n",
    "# sum_pyatь(x)"
   ]
  }
 ],
 "metadata": {
  "kernelspec": {
   "display_name": "Python 3",
   "language": "python",
   "name": "python3"
  },
  "language_info": {
   "codemirror_mode": {
    "name": "ipython",
    "version": 3
   },
   "file_extension": ".py",
   "mimetype": "text/x-python",
   "name": "python",
   "nbconvert_exporter": "python",
   "pygments_lexer": "ipython3",
   "version": "3.6.9"
  }
 },
 "nbformat": 4,
 "nbformat_minor": 4
}
